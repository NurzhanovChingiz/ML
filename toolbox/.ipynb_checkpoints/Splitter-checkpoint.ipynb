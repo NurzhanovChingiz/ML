{
 "cells": [
  {
   "cell_type": "code",
   "execution_count": 1,
   "id": "8dc980b7",
   "metadata": {
    "ExecuteTime": {
     "end_time": "2023-06-03T07:35:03.063251Z",
     "start_time": "2023-06-03T07:35:03.061321Z"
    },
    "scrolled": false
   },
   "outputs": [
    {
     "name": "stdout",
     "output_type": "stream",
     "text": [
      "/home/ml/Jupyter_root/123/git\n"
     ]
    }
   ],
   "source": [
    "cd /home/ml/Jupyter_root/123/git"
   ]
  },
  {
   "cell_type": "code",
   "execution_count": 2,
   "id": "ac863d6e",
   "metadata": {
    "ExecuteTime": {
     "end_time": "2023-06-03T07:35:03.453021Z",
     "start_time": "2023-06-03T07:35:03.063844Z"
    }
   },
   "outputs": [],
   "source": [
    "from ML.regression.utils.metrics.RegressionMetrics import RegressionMetrics\n",
    "from ML.regression.utils.data_preprocessing.DataFramePreprocessing import DataFramePreprocessing"
   ]
  },
  {
   "cell_type": "code",
   "execution_count": 3,
   "id": "89d8bec7",
   "metadata": {
    "ExecuteTime": {
     "end_time": "2023-06-03T07:35:03.474800Z",
     "start_time": "2023-06-03T07:35:03.454399Z"
    }
   },
   "outputs": [],
   "source": [
    "from sklearn.datasets import fetch_california_housing\n",
    "# Split\n",
    "from sklearn.model_selection import train_test_split\n",
    "# Model\n",
    "import xgboost as xgb\n",
    "\n",
    "from sklearn.pipeline import Pipeline"
   ]
  },
  {
   "cell_type": "markdown",
   "id": "8707e128",
   "metadata": {},
   "source": [
    "## Config"
   ]
  },
  {
   "cell_type": "code",
   "execution_count": 4,
   "id": "8052b76a",
   "metadata": {
    "ExecuteTime": {
     "end_time": "2023-06-03T07:35:03.476884Z",
     "start_time": "2023-06-03T07:35:03.475517Z"
    }
   },
   "outputs": [],
   "source": [
    "class CFG:\n",
    "    #Random seed\n",
    "    SEED = 42"
   ]
  },
  {
   "cell_type": "markdown",
   "id": "62dddf2a",
   "metadata": {},
   "source": [
    "## train test validate split"
   ]
  },
  {
   "cell_type": "code",
   "execution_count": 5,
   "id": "532e39e8",
   "metadata": {
    "ExecuteTime": {
     "end_time": "2023-06-03T07:35:03.488965Z",
     "start_time": "2023-06-03T07:35:03.477458Z"
    }
   },
   "outputs": [],
   "source": [
    "X, y = fetch_california_housing(as_frame=True,return_X_y =True)"
   ]
  },
  {
   "cell_type": "code",
   "execution_count": 6,
   "id": "138d07f2",
   "metadata": {
    "ExecuteTime": {
     "end_time": "2023-06-03T07:35:03.492609Z",
     "start_time": "2023-06-03T07:35:03.489790Z"
    }
   },
   "outputs": [],
   "source": [
    "X_train, X_val, y_train, y_val = train_test_split(X, y, test_size=0.20,\n",
    "                                                    random_state=CFG.SEED,\n",
    "                                                    shuffle = True,\n",
    "                                                   )"
   ]
  },
  {
   "cell_type": "code",
   "execution_count": 7,
   "id": "11b81289",
   "metadata": {
    "ExecuteTime": {
     "end_time": "2023-06-03T07:35:03.497858Z",
     "start_time": "2023-06-03T07:35:03.493307Z"
    },
    "run_control": {
     "marked": true
    }
   },
   "outputs": [
    {
     "data": {
      "text/plain": [
       "((16512, 8), (16512,), (4128, 8), (4128,))"
      ]
     },
     "execution_count": 7,
     "metadata": {},
     "output_type": "execute_result"
    }
   ],
   "source": [
    "X_train.shape, y_train.shape,  X_val.shape, y_val.shape"
   ]
  },
  {
   "cell_type": "code",
   "execution_count": 8,
   "id": "6c98a3d6",
   "metadata": {
    "ExecuteTime": {
     "end_time": "2023-06-03T07:35:03.501847Z",
     "start_time": "2023-06-03T07:35:03.498401Z"
    }
   },
   "outputs": [],
   "source": [
    "import pandas as pd\n",
    "from sklearn.model_selection import KFold\n",
    "\n",
    "class Splitter:\n",
    "    \"\"\"\n",
    "    A class used to split data into train/test sets.\n",
    "    \"\"\"\n",
    "    def __init__(self, X, y, n_splits=5, random_state=42, shuffle=True):\n",
    "        \"\"\"\n",
    "        The constructor for Splitter class.\n",
    "\n",
    "        Parameters:\n",
    "           X (DataFrame): Features\n",
    "           y (Series/DataFrame): Target variable\n",
    "           n_splits (int): Number of folds. Must be at least 2.\n",
    "           random_state (int): Random state for reproducibility.\n",
    "           shuffle (bool): Whether to shuffle the data before splitting into batches.\n",
    "        \"\"\"\n",
    "        self.X = X\n",
    "        self.y = y\n",
    "        self.n_splits = n_splits\n",
    "        self.random_state = random_state\n",
    "        self.shuffle = shuffle\n",
    "        self.kfold = KFold(n_splits=self.n_splits, random_state=self.random_state, shuffle=self.shuffle)\n",
    "        \n",
    "    def split_data(self):\n",
    "        X_train, X_test, y_train, y_test = [], [], [], []\n",
    "        \n",
    "        for train_index, test_index in self.kfold.split(self.X):\n",
    "            X_train_fold, X_test_fold = self.X.iloc[train_index], self.X.iloc[test_index]\n",
    "            y_train_fold, y_test_fold = self.y.iloc[train_index], self.y.iloc[test_index]\n",
    "            \n",
    "            X_train.append(X_train_fold)\n",
    "            X_test.append(X_test_fold)\n",
    "            y_train.append(y_train_fold)\n",
    "            y_test.append(y_test_fold)\n",
    "        \n",
    "        return  X_train, X_test, y_train, y_test"
   ]
  },
  {
   "cell_type": "code",
   "execution_count": 9,
   "id": "bc080fae",
   "metadata": {
    "ExecuteTime": {
     "end_time": "2023-06-03T07:35:03.506392Z",
     "start_time": "2023-06-03T07:35:03.502510Z"
    }
   },
   "outputs": [],
   "source": [
    "def modeling(X_train_fold,y_train_fold, model):\n",
    "    models = []\n",
    "    for fold, data in enumerate(zip(X_train_fold, y_train_fold)):\n",
    "        X_train_fold, y_train_fold = data\n",
    "    \n",
    "        # Train your model on the training data\n",
    "        pipeline.fit(X_train_fold, y_train_fold)\n",
    "        models.append(pipeline)\n",
    "    return models\n"
   ]
  },
  {
   "cell_type": "code",
   "execution_count": 10,
   "id": "9ae887a1",
   "metadata": {
    "ExecuteTime": {
     "end_time": "2023-06-03T07:35:03.510374Z",
     "start_time": "2023-06-03T07:35:03.507003Z"
    }
   },
   "outputs": [],
   "source": [
    "model = xgb.XGBRegressor()\n",
    "\n",
    "preprocessing = DataFramePreprocessing()\n",
    "\n",
    "steps = [('preprocessing', preprocessing)]# Create a list of tuples with the steps\n",
    "steps.append(('model', model))\n",
    "pipeline = Pipeline(steps=steps)"
   ]
  },
  {
   "cell_type": "code",
   "execution_count": 11,
   "id": "953e904f",
   "metadata": {
    "ExecuteTime": {
     "end_time": "2023-06-03T07:35:03.517185Z",
     "start_time": "2023-06-03T07:35:03.511059Z"
    }
   },
   "outputs": [],
   "source": [
    "splitter = Splitter(X_train, y_train,n_splits=3, random_state=42)\n",
    "X_train_fold, X_test_fold, y_train_fold, y_test_fold = splitter.split_data()"
   ]
  },
  {
   "cell_type": "code",
   "execution_count": 12,
   "id": "4c890bdc",
   "metadata": {
    "ExecuteTime": {
     "end_time": "2023-06-03T07:35:04.716471Z",
     "start_time": "2023-06-03T07:35:03.518274Z"
    }
   },
   "outputs": [],
   "source": [
    "models = modeling(X_train_fold,y_train_fold, pipeline)"
   ]
  },
  {
   "cell_type": "code",
   "execution_count": 13,
   "id": "8236b2c7",
   "metadata": {
    "ExecuteTime": {
     "end_time": "2023-06-03T07:35:04.977526Z",
     "start_time": "2023-06-03T07:35:04.717490Z"
    },
    "run_control": {
     "marked": false
    }
   },
   "outputs": [
    {
     "name": "stdout",
     "output_type": "stream",
     "text": [
      "Fold 0: "
     ]
    },
    {
     "data": {
      "text/html": [
       "<style type=\"text/css\">\n",
       "#T_9048a caption {\n",
       "  color: Blue;\n",
       "  font-size: 28px;\n",
       "  font-weight: bold;\n",
       "}\n",
       "#T_9048a_row0_col0 {\n",
       "  background-color: #4358cb;\n",
       "  color: #f1f1f1;\n",
       "}\n",
       "#T_9048a_row1_col0 {\n",
       "  background-color: #4257c9;\n",
       "  color: #f1f1f1;\n",
       "}\n",
       "#T_9048a_row2_col0 {\n",
       "  background-color: #3c4ec2;\n",
       "  color: #f1f1f1;\n",
       "}\n",
       "#T_9048a_row3_col0, #T_9048a_row5_col0 {\n",
       "  background-color: #3b4cc0;\n",
       "  color: #f1f1f1;\n",
       "}\n",
       "#T_9048a_row4_col0 {\n",
       "  background-color: #3e51c5;\n",
       "  color: #f1f1f1;\n",
       "}\n",
       "#T_9048a_row6_col0 {\n",
       "  background-color: #b40426;\n",
       "  color: #f1f1f1;\n",
       "}\n",
       "#T_9048a_row7_col0 {\n",
       "  background-color: #e8765c;\n",
       "  color: #f1f1f1;\n",
       "}\n",
       "#T_9048a_row8_col0 {\n",
       "  background-color: #455cce;\n",
       "  color: #f1f1f1;\n",
       "}\n",
       "#T_9048a_row9_col0 {\n",
       "  background-color: #536edd;\n",
       "  color: #f1f1f1;\n",
       "}\n",
       "</style>\n",
       "<table id=\"T_9048a\">\n",
       "  <thead>\n",
       "    <tr>\n",
       "      <th class=\"blank level0\" >&nbsp;</th>\n",
       "      <th id=\"T_9048a_level0_col0\" class=\"col_heading level0 col0\" >Value</th>\n",
       "    </tr>\n",
       "    <tr>\n",
       "      <th class=\"index_name level0\" >Metric</th>\n",
       "      <th class=\"blank col0\" >&nbsp;</th>\n",
       "    </tr>\n",
       "  </thead>\n",
       "  <tbody>\n",
       "    <tr>\n",
       "      <th id=\"T_9048a_level0_row0\" class=\"row_heading level0 row0\" >Test R-squared</th>\n",
       "      <td id=\"T_9048a_row0_col0\" class=\"data row0 col0\" >0.887210</td>\n",
       "    </tr>\n",
       "    <tr>\n",
       "      <th id=\"T_9048a_level0_row1\" class=\"row_heading level0 row1\" >Val R-squared</th>\n",
       "      <td id=\"T_9048a_row1_col0\" class=\"data row1 col0\" >0.817397</td>\n",
       "    </tr>\n",
       "    <tr>\n",
       "      <th id=\"T_9048a_level0_row2\" class=\"row_heading level0 row2\" >MAE</th>\n",
       "      <td id=\"T_9048a_row2_col0\" class=\"data row2 col0\" >0.326664</td>\n",
       "    </tr>\n",
       "    <tr>\n",
       "      <th id=\"T_9048a_level0_row3\" class=\"row_heading level0 row3\" >MSE</th>\n",
       "      <td id=\"T_9048a_row3_col0\" class=\"data row3 col0\" >0.239285</td>\n",
       "    </tr>\n",
       "    <tr>\n",
       "      <th id=\"T_9048a_level0_row4\" class=\"row_heading level0 row4\" >RMSE</th>\n",
       "      <td id=\"T_9048a_row4_col0\" class=\"data row4 col0\" >0.489167</td>\n",
       "    </tr>\n",
       "    <tr>\n",
       "      <th id=\"T_9048a_level0_row5\" class=\"row_heading level0 row5\" >MAPE</th>\n",
       "      <td id=\"T_9048a_row5_col0\" class=\"data row5 col0\" >0.188783</td>\n",
       "    </tr>\n",
       "    <tr>\n",
       "      <th id=\"T_9048a_level0_row6\" class=\"row_heading level0 row6\" >AIC</th>\n",
       "      <td id=\"T_9048a_row6_col0\" class=\"data row6 col0\" >23.511300</td>\n",
       "    </tr>\n",
       "    <tr>\n",
       "      <th id=\"T_9048a_level0_row7\" class=\"row_heading level0 row7\" >BIC</th>\n",
       "      <td id=\"T_9048a_row7_col0\" class=\"data row7 col0\" >19.511300</td>\n",
       "    </tr>\n",
       "    <tr>\n",
       "      <th id=\"T_9048a_level0_row8\" class=\"row_heading level0 row8\" >Std Deviation</th>\n",
       "      <td id=\"T_9048a_row8_col0\" class=\"data row8 col0\" >1.058499</td>\n",
       "    </tr>\n",
       "    <tr>\n",
       "      <th id=\"T_9048a_level0_row9\" class=\"row_heading level0 row9\" >Mean</th>\n",
       "      <td id=\"T_9048a_row9_col0\" class=\"data row9 col0\" >2.061726</td>\n",
       "    </tr>\n",
       "  </tbody>\n",
       "</table>\n"
      ],
      "text/plain": [
       "<pandas.io.formats.style.Styler at 0x7f0a4f752da0>"
      ]
     },
     "metadata": {},
     "output_type": "display_data"
    },
    {
     "name": "stdout",
     "output_type": "stream",
     "text": [
      "Fold 1: "
     ]
    },
    {
     "data": {
      "text/html": [
       "<style type=\"text/css\">\n",
       "#T_ef2f0 caption {\n",
       "  color: Blue;\n",
       "  font-size: 28px;\n",
       "  font-weight: bold;\n",
       "}\n",
       "#T_ef2f0_row0_col0 {\n",
       "  background-color: #4358cb;\n",
       "  color: #f1f1f1;\n",
       "}\n",
       "#T_ef2f0_row1_col0 {\n",
       "  background-color: #4257c9;\n",
       "  color: #f1f1f1;\n",
       "}\n",
       "#T_ef2f0_row2_col0 {\n",
       "  background-color: #3c4ec2;\n",
       "  color: #f1f1f1;\n",
       "}\n",
       "#T_ef2f0_row3_col0, #T_ef2f0_row5_col0 {\n",
       "  background-color: #3b4cc0;\n",
       "  color: #f1f1f1;\n",
       "}\n",
       "#T_ef2f0_row4_col0 {\n",
       "  background-color: #3e51c5;\n",
       "  color: #f1f1f1;\n",
       "}\n",
       "#T_ef2f0_row6_col0 {\n",
       "  background-color: #b40426;\n",
       "  color: #f1f1f1;\n",
       "}\n",
       "#T_ef2f0_row7_col0 {\n",
       "  background-color: #e8765c;\n",
       "  color: #f1f1f1;\n",
       "}\n",
       "#T_ef2f0_row8_col0 {\n",
       "  background-color: #455cce;\n",
       "  color: #f1f1f1;\n",
       "}\n",
       "#T_ef2f0_row9_col0 {\n",
       "  background-color: #536edd;\n",
       "  color: #f1f1f1;\n",
       "}\n",
       "</style>\n",
       "<table id=\"T_ef2f0\">\n",
       "  <thead>\n",
       "    <tr>\n",
       "      <th class=\"blank level0\" >&nbsp;</th>\n",
       "      <th id=\"T_ef2f0_level0_col0\" class=\"col_heading level0 col0\" >Value</th>\n",
       "    </tr>\n",
       "    <tr>\n",
       "      <th class=\"index_name level0\" >Metric</th>\n",
       "      <th class=\"blank col0\" >&nbsp;</th>\n",
       "    </tr>\n",
       "  </thead>\n",
       "  <tbody>\n",
       "    <tr>\n",
       "      <th id=\"T_ef2f0_level0_row0\" class=\"row_heading level0 row0\" >Test R-squared</th>\n",
       "      <td id=\"T_ef2f0_row0_col0\" class=\"data row0 col0\" >0.888519</td>\n",
       "    </tr>\n",
       "    <tr>\n",
       "      <th id=\"T_ef2f0_level0_row1\" class=\"row_heading level0 row1\" >Val R-squared</th>\n",
       "      <td id=\"T_ef2f0_row1_col0\" class=\"data row1 col0\" >0.817397</td>\n",
       "    </tr>\n",
       "    <tr>\n",
       "      <th id=\"T_ef2f0_level0_row2\" class=\"row_heading level0 row2\" >MAE</th>\n",
       "      <td id=\"T_ef2f0_row2_col0\" class=\"data row2 col0\" >0.326664</td>\n",
       "    </tr>\n",
       "    <tr>\n",
       "      <th id=\"T_ef2f0_level0_row3\" class=\"row_heading level0 row3\" >MSE</th>\n",
       "      <td id=\"T_ef2f0_row3_col0\" class=\"data row3 col0\" >0.239285</td>\n",
       "    </tr>\n",
       "    <tr>\n",
       "      <th id=\"T_ef2f0_level0_row4\" class=\"row_heading level0 row4\" >RMSE</th>\n",
       "      <td id=\"T_ef2f0_row4_col0\" class=\"data row4 col0\" >0.489167</td>\n",
       "    </tr>\n",
       "    <tr>\n",
       "      <th id=\"T_ef2f0_level0_row5\" class=\"row_heading level0 row5\" >MAPE</th>\n",
       "      <td id=\"T_ef2f0_row5_col0\" class=\"data row5 col0\" >0.188783</td>\n",
       "    </tr>\n",
       "    <tr>\n",
       "      <th id=\"T_ef2f0_level0_row6\" class=\"row_heading level0 row6\" >AIC</th>\n",
       "      <td id=\"T_ef2f0_row6_col0\" class=\"data row6 col0\" >23.511300</td>\n",
       "    </tr>\n",
       "    <tr>\n",
       "      <th id=\"T_ef2f0_level0_row7\" class=\"row_heading level0 row7\" >BIC</th>\n",
       "      <td id=\"T_ef2f0_row7_col0\" class=\"data row7 col0\" >19.511300</td>\n",
       "    </tr>\n",
       "    <tr>\n",
       "      <th id=\"T_ef2f0_level0_row8\" class=\"row_heading level0 row8\" >Std Deviation</th>\n",
       "      <td id=\"T_ef2f0_row8_col0\" class=\"data row8 col0\" >1.058499</td>\n",
       "    </tr>\n",
       "    <tr>\n",
       "      <th id=\"T_ef2f0_level0_row9\" class=\"row_heading level0 row9\" >Mean</th>\n",
       "      <td id=\"T_ef2f0_row9_col0\" class=\"data row9 col0\" >2.061726</td>\n",
       "    </tr>\n",
       "  </tbody>\n",
       "</table>\n"
      ],
      "text/plain": [
       "<pandas.io.formats.style.Styler at 0x7f0a4f7532b0>"
      ]
     },
     "metadata": {},
     "output_type": "display_data"
    },
    {
     "name": "stdout",
     "output_type": "stream",
     "text": [
      "Fold 2: "
     ]
    },
    {
     "data": {
      "text/html": [
       "<style type=\"text/css\">\n",
       "#T_6de2d caption {\n",
       "  color: Blue;\n",
       "  font-size: 28px;\n",
       "  font-weight: bold;\n",
       "}\n",
       "#T_6de2d_row0_col0 {\n",
       "  background-color: #445acc;\n",
       "  color: #f1f1f1;\n",
       "}\n",
       "#T_6de2d_row1_col0 {\n",
       "  background-color: #4257c9;\n",
       "  color: #f1f1f1;\n",
       "}\n",
       "#T_6de2d_row2_col0 {\n",
       "  background-color: #3c4ec2;\n",
       "  color: #f1f1f1;\n",
       "}\n",
       "#T_6de2d_row3_col0, #T_6de2d_row5_col0 {\n",
       "  background-color: #3b4cc0;\n",
       "  color: #f1f1f1;\n",
       "}\n",
       "#T_6de2d_row4_col0 {\n",
       "  background-color: #3e51c5;\n",
       "  color: #f1f1f1;\n",
       "}\n",
       "#T_6de2d_row6_col0 {\n",
       "  background-color: #b40426;\n",
       "  color: #f1f1f1;\n",
       "}\n",
       "#T_6de2d_row7_col0 {\n",
       "  background-color: #e8765c;\n",
       "  color: #f1f1f1;\n",
       "}\n",
       "#T_6de2d_row8_col0 {\n",
       "  background-color: #455cce;\n",
       "  color: #f1f1f1;\n",
       "}\n",
       "#T_6de2d_row9_col0 {\n",
       "  background-color: #536edd;\n",
       "  color: #f1f1f1;\n",
       "}\n",
       "</style>\n",
       "<table id=\"T_6de2d\">\n",
       "  <thead>\n",
       "    <tr>\n",
       "      <th class=\"blank level0\" >&nbsp;</th>\n",
       "      <th id=\"T_6de2d_level0_col0\" class=\"col_heading level0 col0\" >Value</th>\n",
       "    </tr>\n",
       "    <tr>\n",
       "      <th class=\"index_name level0\" >Metric</th>\n",
       "      <th class=\"blank col0\" >&nbsp;</th>\n",
       "    </tr>\n",
       "  </thead>\n",
       "  <tbody>\n",
       "    <tr>\n",
       "      <th id=\"T_6de2d_level0_row0\" class=\"row_heading level0 row0\" >Test R-squared</th>\n",
       "      <td id=\"T_6de2d_row0_col0\" class=\"data row0 col0\" >0.955586</td>\n",
       "    </tr>\n",
       "    <tr>\n",
       "      <th id=\"T_6de2d_level0_row1\" class=\"row_heading level0 row1\" >Val R-squared</th>\n",
       "      <td id=\"T_6de2d_row1_col0\" class=\"data row1 col0\" >0.817397</td>\n",
       "    </tr>\n",
       "    <tr>\n",
       "      <th id=\"T_6de2d_level0_row2\" class=\"row_heading level0 row2\" >MAE</th>\n",
       "      <td id=\"T_6de2d_row2_col0\" class=\"data row2 col0\" >0.326664</td>\n",
       "    </tr>\n",
       "    <tr>\n",
       "      <th id=\"T_6de2d_level0_row3\" class=\"row_heading level0 row3\" >MSE</th>\n",
       "      <td id=\"T_6de2d_row3_col0\" class=\"data row3 col0\" >0.239285</td>\n",
       "    </tr>\n",
       "    <tr>\n",
       "      <th id=\"T_6de2d_level0_row4\" class=\"row_heading level0 row4\" >RMSE</th>\n",
       "      <td id=\"T_6de2d_row4_col0\" class=\"data row4 col0\" >0.489167</td>\n",
       "    </tr>\n",
       "    <tr>\n",
       "      <th id=\"T_6de2d_level0_row5\" class=\"row_heading level0 row5\" >MAPE</th>\n",
       "      <td id=\"T_6de2d_row5_col0\" class=\"data row5 col0\" >0.188783</td>\n",
       "    </tr>\n",
       "    <tr>\n",
       "      <th id=\"T_6de2d_level0_row6\" class=\"row_heading level0 row6\" >AIC</th>\n",
       "      <td id=\"T_6de2d_row6_col0\" class=\"data row6 col0\" >23.511300</td>\n",
       "    </tr>\n",
       "    <tr>\n",
       "      <th id=\"T_6de2d_level0_row7\" class=\"row_heading level0 row7\" >BIC</th>\n",
       "      <td id=\"T_6de2d_row7_col0\" class=\"data row7 col0\" >19.511300</td>\n",
       "    </tr>\n",
       "    <tr>\n",
       "      <th id=\"T_6de2d_level0_row8\" class=\"row_heading level0 row8\" >Std Deviation</th>\n",
       "      <td id=\"T_6de2d_row8_col0\" class=\"data row8 col0\" >1.058499</td>\n",
       "    </tr>\n",
       "    <tr>\n",
       "      <th id=\"T_6de2d_level0_row9\" class=\"row_heading level0 row9\" >Mean</th>\n",
       "      <td id=\"T_6de2d_row9_col0\" class=\"data row9 col0\" >2.061726</td>\n",
       "    </tr>\n",
       "  </tbody>\n",
       "</table>\n"
      ],
      "text/plain": [
       "<pandas.io.formats.style.Styler at 0x7f0a4f753850>"
      ]
     },
     "metadata": {},
     "output_type": "display_data"
    }
   ],
   "source": [
    "for fold, model in enumerate(models):\n",
    "    print(f'Fold {fold}:', end=' ')\n",
    "    \n",
    "    metrics = RegressionMetrics(model, X_train_fold[fold], y_train_fold[fold], X_val, y_val, style = True)\n",
    "    output = metrics.run()\n",
    "        \n",
    "    display(output)\n",
    "    "
   ]
  }
 ],
 "metadata": {
  "hide_input": false,
  "kernelspec": {
   "display_name": "Python 3 (ipykernel)",
   "language": "python",
   "name": "python3"
  },
  "language_info": {
   "codemirror_mode": {
    "name": "ipython",
    "version": 3
   },
   "file_extension": ".py",
   "mimetype": "text/x-python",
   "name": "python",
   "nbconvert_exporter": "python",
   "pygments_lexer": "ipython3",
   "version": "3.10.8"
  },
  "toc": {
   "base_numbering": 1,
   "nav_menu": {},
   "number_sections": true,
   "sideBar": true,
   "skip_h1_title": false,
   "title_cell": "Table of Contents",
   "title_sidebar": "Contents",
   "toc_cell": false,
   "toc_position": {},
   "toc_section_display": true,
   "toc_window_display": false
  }
 },
 "nbformat": 4,
 "nbformat_minor": 5
}
