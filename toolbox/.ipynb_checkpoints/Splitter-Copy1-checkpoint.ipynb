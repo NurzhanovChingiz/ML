{
 "cells": [
  {
   "cell_type": "code",
   "execution_count": 1,
   "id": "a6e758bf",
   "metadata": {
    "ExecuteTime": {
     "end_time": "2023-06-02T18:41:55.541314Z",
     "start_time": "2023-06-02T18:41:55.539489Z"
    },
    "scrolled": false
   },
   "outputs": [
    {
     "name": "stdout",
     "output_type": "stream",
     "text": [
      "/home/ml/Jupyter_root/123/git\n"
     ]
    }
   ],
   "source": [
    "cd /home/ml/Jupyter_root/123/git"
   ]
  },
  {
   "cell_type": "code",
   "execution_count": 2,
   "id": "bec33170",
   "metadata": {
    "ExecuteTime": {
     "end_time": "2023-06-02T18:41:55.934815Z",
     "start_time": "2023-06-02T18:41:55.541829Z"
    }
   },
   "outputs": [],
   "source": [
    "# from ML.regression.utils.metrics.RegressionMetrics import RegressionMetrics\n",
    "from ML.regression.utils.data_preprocessing.DataFramePreprocessing import DataFramePreprocessing"
   ]
  },
  {
   "cell_type": "code",
   "execution_count": 3,
   "id": "62292e5a",
   "metadata": {
    "ExecuteTime": {
     "end_time": "2023-06-02T18:41:55.941812Z",
     "start_time": "2023-06-02T18:41:55.936189Z"
    }
   },
   "outputs": [],
   "source": [
    "from sklearn.metrics import mean_absolute_error, mean_absolute_percentage_error, mean_squared_error, r2_score\n",
    "import pandas as pd\n",
    "import numpy as np\n",
    "\n",
    "class RegressionMetrics:\n",
    "    \"\"\"\n",
    "    A class for computing and printing regression evaluation metrics.\n",
    "\n",
    "    Args:\n",
    "        pipeline: The regression pipeline model.\n",
    "        X_test: The test features.\n",
    "        y_test: The test labels.\n",
    "        X_val: The validation features.\n",
    "        y_val: The validation labels.\n",
    "        style: Flag indicating whether to apply styling to the output. Default is False.\n",
    "    \"\"\"\n",
    "\n",
    "    def __init__(self, pipeline, X_test, y_test, X_val, y_val, style=False):\n",
    "        self.pipeline = pipeline\n",
    "        self.X_test = X_test\n",
    "        self.y_test = y_test\n",
    "        self.X_val = X_val\n",
    "        self.y_val = y_val\n",
    "        self.y_pred = None\n",
    "        self.style = style\n",
    "\n",
    "    def mean_absolute_error(self):\n",
    "        \"\"\"\n",
    "        Calculates the mean absolute error (MAE).\n",
    "\n",
    "        Returns:\n",
    "            The mean absolute error value.\n",
    "        \"\"\"\n",
    "        return mean_absolute_error(self.y_val, self.y_pred)\n",
    "\n",
    "    def mean_absolute_percentage_error(self):\n",
    "        \"\"\"\n",
    "        Calculates the mean absolute percentage error (MAPE).\n",
    "\n",
    "        Returns:\n",
    "            The mean absolute percentage error value.\n",
    "        \"\"\"\n",
    "        return mean_absolute_percentage_error(self.y_val, self.y_pred)\n",
    "\n",
    "    def mean_squared_error(self):\n",
    "        \"\"\"\n",
    "        Calculates the mean squared error (MSE).\n",
    "\n",
    "        Returns:\n",
    "            The mean squared error value.\n",
    "        \"\"\"\n",
    "        return mean_squared_error(self.y_val, self.y_pred)\n",
    "\n",
    "    def mean_root_mean_squared_error(self):\n",
    "        \"\"\"\n",
    "        Calculates the root mean squared error (RMSE).\n",
    "\n",
    "        Returns:\n",
    "            The root mean squared error value.\n",
    "        \"\"\"\n",
    "        return mean_squared_error(self.y_val, self.y_pred, squared=False)\n",
    "\n",
    "    def r2_test(self):\n",
    "        \"\"\"\n",
    "        Calculates the R-squared score for the test set.\n",
    "\n",
    "        Returns:\n",
    "            The R-squared score for the test set.\n",
    "        \"\"\"\n",
    "        return self.pipeline.score(self.X_test, self.y_test)\n",
    "\n",
    "    def r2_val(self):\n",
    "        \"\"\"\n",
    "        Calculates the R-squared score for the validation set.\n",
    "\n",
    "        Returns:\n",
    "            The R-squared score for the validation set.\n",
    "        \"\"\"\n",
    "        return r2_score(self.y_val, self.y_pred)\n",
    "\n",
    "    def aic(self):\n",
    "        \"\"\"\n",
    "        Calculates the Akaike Information Criterion (AIC).\n",
    "\n",
    "        Returns:\n",
    "            The Akaike Information Criterion value.\n",
    "        \"\"\"\n",
    "        y_pred = self.pipeline.predict(self.X_val)\n",
    "        n_params = len(self.pipeline.named_steps)\n",
    "        n = len(self.y_val)\n",
    "        mse = mean_squared_error(self.y_val, y_pred)\n",
    "        aic = 2 * n_params - 2 * np.log(mse) + n_params * np.log(n)\n",
    "        return aic\n",
    "\n",
    "    def bic(self):\n",
    "        \"\"\"\n",
    "        Calculates the Bayesian Information Criterion (BIC).\n",
    "\n",
    "        Returns:\n",
    "            The Bayesian Information Criterion value.\n",
    "        \"\"\"\n",
    "        y_pred = self.pipeline.predict(self.X_val)\n",
    "        n_params = len(self.pipeline.named_steps)\n",
    "        n = len(self.y_val)\n",
    "        mse = mean_squared_error(self.y_val, y_pred)\n",
    "        bic = -2 * np.log(mse) + n_params * np.log(n)\n",
    "        return bic\n",
    "\n",
    "    def std(self):\n",
    "        \"\"\"\n",
    "        Calculates the standard deviation of the predicted values.\n",
    "\n",
    "        Returns:\n",
    "            The standard deviation value.\n",
    "        \"\"\"\n",
    "        return self.y_pred.std()\n",
    "\n",
    "    def mean(self):\n",
    "        \"\"\"\n",
    "        Calculates the mean of the predicted values.\n",
    "\n",
    "        Returns:\n",
    "            The mean value.\n",
    "        \"\"\"\n",
    "        return self.y_pred.mean()\n",
    "\n",
    "    def predict(self):\n",
    "        \"\"\"\n",
    "        Performs prediction on the validation set.\n",
    "        \"\"\"\n",
    "        self.y_pred = self.pipeline.predict(self.X_val)\n",
    "\n",
    "    def set_frame_style(self, df, caption=\"\"):\n",
    "        \"\"\"\n",
    "        Helper function to set dataframe presentation style.\n",
    "\n",
    "        Args:\n",
    "            df: The DataFrame to style.\n",
    "            caption: The caption for the styled DataFrame. Default is an empty string.\n",
    "\n",
    "        Returns:\n",
    "            The styled DataFrame.\n",
    "        \"\"\"\n",
    "        return df.style.background_gradient(\n",
    "            cmap='coolwarm').set_caption(caption).set_table_styles([{\n",
    "                'selector':\n",
    "                'caption',\n",
    "                'props': [('color', 'Blue'), ('font-size', '28px'),\n",
    "                          ('font-weight', 'bold')]\n",
    "            }])\n",
    "\n",
    "    def run(self):\n",
    "        \"\"\"\n",
    "        Runs the regression metrics calculation and printing.\n",
    "        \"\"\"\n",
    "        try:\n",
    "            self.predict()\n",
    "            metrics = {\n",
    "                \"Test R-squared\": self.r2_test(),\n",
    "                \"Val R-squared\": self.r2_val(),\n",
    "                \"MAE\": self.mean_absolute_error(),\n",
    "                \"MSE\": self.mean_squared_error(),\n",
    "                \"RMSE\": self.mean_root_mean_squared_error(),\n",
    "                \"MAPE\": self.mean_absolute_percentage_error(),\n",
    "                \"AIC\": self.aic(),\n",
    "                \"BIC\": self.bic(),\n",
    "                \"Std Deviation\": self.std(),\n",
    "                \"Mean\": self.mean()\n",
    "            }\n",
    "\n",
    "            df_metrics = pd.DataFrame.from_dict(metrics,\n",
    "                                                orient=\"index\",\n",
    "                                                columns=[\"Value\"])\n",
    "            df_metrics.index.name = \"Metric\"\n",
    "\n",
    "            if self.style:\n",
    "                return self.set_frame_style(df_metrics)\n",
    "            else:\n",
    "                return df_metrics\n",
    "        except Exception as e:\n",
    "            print(\"An error occurred:\", str(e))"
   ]
  },
  {
   "cell_type": "code",
   "execution_count": 4,
   "id": "1c408867",
   "metadata": {
    "ExecuteTime": {
     "end_time": "2023-06-02T18:41:55.948415Z",
     "start_time": "2023-06-02T18:41:55.942669Z"
    }
   },
   "outputs": [],
   "source": [
    "from sklearn.metrics import mean_absolute_error, mean_absolute_percentage_error, mean_squared_error, r2_score\n",
    "import pandas as pd\n",
    "import numpy as np\n",
    "\n",
    "class RegressionMetrics:\n",
    "    \"\"\"\n",
    "    A class for computing and printing regression evaluation metrics.\n",
    "\n",
    "    Args:\n",
    "        pipeline_or_model: The regression pipeline or model.\n",
    "        X_test: The test features.\n",
    "        y_test: The test labels.\n",
    "        X_val: The validation features.\n",
    "        y_val: The validation labels.\n",
    "        style: Flag indicating whether to apply styling to the output. Default is False.\n",
    "        is_model: Flag indicating whether the provided object is a regression model. Default is False.\n",
    "    \"\"\"\n",
    "\n",
    "    def __init__(self, pipeline_or_model, X_test, y_test, X_val, y_val, style=False, is_model=False):\n",
    "        if is_model:\n",
    "            self.model = pipeline_or_model\n",
    "        else:\n",
    "            self.pipeline = pipeline_or_model\n",
    "        self.X_test = X_test\n",
    "        self.y_test = y_test\n",
    "        self.X_val = X_val\n",
    "        self.y_val = y_val\n",
    "        self.y_pred = None\n",
    "        self.style = style\n",
    "\n",
    "    def mean_absolute_error(self):\n",
    "        \"\"\"\n",
    "        Calculates the mean absolute error (MAE).\n",
    "\n",
    "        Returns:\n",
    "            The mean absolute error value.\n",
    "        \"\"\"\n",
    "        return mean_absolute_error(self.y_val, self.y_pred)\n",
    "\n",
    "    def mean_absolute_percentage_error(self):\n",
    "        \"\"\"\n",
    "        Calculates the mean absolute percentage error (MAPE).\n",
    "\n",
    "        Returns:\n",
    "            The mean absolute percentage error value.\n",
    "        \"\"\"\n",
    "        return mean_absolute_percentage_error(self.y_val, self.y_pred)\n",
    "\n",
    "    def mean_squared_error(self):\n",
    "        \"\"\"\n",
    "        Calculates the mean squared error (MSE).\n",
    "\n",
    "        Returns:\n",
    "            The mean squared error value.\n",
    "        \"\"\"\n",
    "        return mean_squared_error(self.y_val, self.y_pred)\n",
    "\n",
    "    def mean_root_mean_squared_error(self):\n",
    "        \"\"\"\n",
    "        Calculates the root mean squared error (RMSE).\n",
    "\n",
    "        Returns:\n",
    "            The root mean squared error value.\n",
    "        \"\"\"\n",
    "        return mean_squared_error(self.y_val, self.y_pred, squared=False)\n",
    "\n",
    "    def r2_test(self):\n",
    "        \"\"\"\n",
    "        Calculates the R-squared score for the test set.\n",
    "\n",
    "        Returns:\n",
    "            The R-squared score for the test set.\n",
    "        \"\"\"\n",
    "        if hasattr(self, 'model'):\n",
    "            return self.model.score(self.X_test, self.y_test)\n",
    "        else:\n",
    "            return self.pipeline.score(self.X_test, self.y_test)\n",
    "\n",
    "    def r2_val(self):\n",
    "        \"\"\"\n",
    "        Calculates the R-squared score for the validation set.\n",
    "\n",
    "        Returns:\n",
    "            The R-squared score for the validation set.\n",
    "        \"\"\"\n",
    "        return r2_score(self.y_val, self.y_pred)\n",
    "\n",
    "    def aic(self):\n",
    "        \"\"\"\n",
    "        Calculates the Akaike Information Criterion (AIC).\n",
    "\n",
    "        Returns:\n",
    "            The Akaike Information Criterion value.\n",
    "        \"\"\"\n",
    "        y_pred = self.predict()\n",
    "        n_params = len(self.pipeline.named_steps) if hasattr(self, 'pipeline') else 0\n",
    "        n = len(self.y_val)\n",
    "        mse = mean_squared_error(self.y_val, y_pred)\n",
    "        aic = 2 * n_params - 2 * np.log(mse) + n_params * np.log(n)\n",
    "        return aic\n",
    "\n",
    "    def bic(self):\n",
    "        \"\"\"\n",
    "        Calculates the Bayesian Information Criterion (BIC).\n",
    "\n",
    "        Returns:\n",
    "            The Bayesian Information Criterion value.\n",
    "        \"\"\"\n",
    "        y_pred = self.predict()\n",
    "        n_params = len(self.pipeline.named_steps) if hasattr(self, 'pipeline') else 0\n",
    "        n = len(self.y_val)\n",
    "        mse = mean_squared_error(self.y_val, y_pred)\n",
    "        bic = -2 * np.log(mse) + n_params * np.log(n)\n",
    "        return bic\n",
    "\n",
    "    def std(self):\n",
    "        \"\"\"\n",
    "        Calculates the standard deviation of the predicted values.\n",
    "\n",
    "        Returns:\n",
    "            The standard deviation value.\n",
    "        \"\"\"\n",
    "        return self.y_pred.std()\n",
    "\n",
    "    def mean(self):\n",
    "        \"\"\"\n",
    "        Calculates the mean of the predicted values.\n",
    "\n",
    "        Returns:\n",
    "            The mean value.\n",
    "        \"\"\"\n",
    "        return self.y_pred.mean()\n",
    "\n",
    "    def predict(self):\n",
    "        \"\"\"\n",
    "        Performs prediction on the validation set.\n",
    "\n",
    "        Returns:\n",
    "            The predicted values.\n",
    "        \"\"\"\n",
    "        if hasattr(self, 'model'):\n",
    "            self.y_pred = self.model.predict(self.X_val)\n",
    "        else:\n",
    "            self.y_pred = self.pipeline.predict(self.X_val)\n",
    "        return self.y_pred\n",
    "\n",
    "    def set_frame_style(self, df, caption=\"\"):\n",
    "        \"\"\"\n",
    "        Helper function to set dataframe presentation style.\n",
    "\n",
    "        Args:\n",
    "            df: The DataFrame to style.\n",
    "            caption: The caption for the styled DataFrame. Default is an empty string.\n",
    "\n",
    "        Returns:\n",
    "            The styled DataFrame.\n",
    "        \"\"\"\n",
    "        return df.style.background_gradient(\n",
    "            cmap='coolwarm').set_caption(caption).set_table_styles([{\n",
    "                'selector':\n",
    "                'caption',\n",
    "                'props': [('color', 'Blue'), ('font-size', '28px'),\n",
    "                          ('font-weight', 'bold')]\n",
    "            }])\n",
    "\n",
    "    def run(self):\n",
    "        \"\"\"\n",
    "        Runs the regression metrics calculation and printing.\n",
    "\n",
    "        Returns:\n",
    "            The DataFrame containing the metric values.\n",
    "        \"\"\"\n",
    "        try:\n",
    "            self.predict()\n",
    "            metrics = {\n",
    "                \"Test R-squared\": self.r2_test(),\n",
    "                \"Val R-squared\": self.r2_val(),\n",
    "                \"MAE\": self.mean_absolute_error(),\n",
    "                \"MSE\": self.mean_squared_error(),\n",
    "                \"RMSE\": self.mean_root_mean_squared_error(),\n",
    "                \"MAPE\": self.mean_absolute_percentage_error(),\n",
    "                \"AIC\": self.aic(),\n",
    "                \"BIC\": self.bic(),\n",
    "                \"Std Deviation\": self.std(),\n",
    "                \"Mean\": self.mean()\n",
    "            }\n",
    "\n",
    "            df_metrics = pd.DataFrame.from_dict(metrics,\n",
    "                                                orient=\"index\",\n",
    "                                                columns=[\"Value\"])\n",
    "            df_metrics.index.name = \"Metric\"\n",
    "\n",
    "            if self.style:\n",
    "                return self.set_frame_style(df_metrics)\n",
    "            else:\n",
    "                return df_metrics\n",
    "        except Exception as e:\n",
    "            print(\"An error occurred:\", str(e))\n"
   ]
  },
  {
   "cell_type": "code",
   "execution_count": 5,
   "id": "3c7057ea",
   "metadata": {
    "ExecuteTime": {
     "end_time": "2023-06-02T18:41:55.974114Z",
     "start_time": "2023-06-02T18:41:55.949003Z"
    }
   },
   "outputs": [],
   "source": [
    "from sklearn.datasets import fetch_california_housing\n",
    "# Split\n",
    "from sklearn.model_selection import train_test_split\n",
    "# Model\n",
    "import xgboost as xgb\n",
    "\n",
    "from sklearn.pipeline import Pipeline"
   ]
  },
  {
   "cell_type": "markdown",
   "id": "84ff163d",
   "metadata": {},
   "source": [
    "## Config"
   ]
  },
  {
   "cell_type": "code",
   "execution_count": 6,
   "id": "c8f0cca6",
   "metadata": {
    "ExecuteTime": {
     "end_time": "2023-06-02T18:41:55.976252Z",
     "start_time": "2023-06-02T18:41:55.974823Z"
    }
   },
   "outputs": [],
   "source": [
    "class CFG:\n",
    "    #Random seed\n",
    "    SEED = 42"
   ]
  },
  {
   "cell_type": "markdown",
   "id": "55dc6e92",
   "metadata": {},
   "source": [
    "## train test validate split"
   ]
  },
  {
   "cell_type": "code",
   "execution_count": 7,
   "id": "301c4d58",
   "metadata": {
    "ExecuteTime": {
     "end_time": "2023-06-02T18:41:55.987538Z",
     "start_time": "2023-06-02T18:41:55.976838Z"
    }
   },
   "outputs": [],
   "source": [
    "X, y = fetch_california_housing(as_frame=True,return_X_y =True)"
   ]
  },
  {
   "cell_type": "code",
   "execution_count": 8,
   "id": "8ef7e743",
   "metadata": {
    "ExecuteTime": {
     "end_time": "2023-06-02T18:41:55.990916Z",
     "start_time": "2023-06-02T18:41:55.988157Z"
    }
   },
   "outputs": [],
   "source": [
    "X_train, X_val, y_train, y_val = train_test_split(X, y, test_size=0.20,\n",
    "                                                    random_state=CFG.SEED,\n",
    "                                                    shuffle = True,\n",
    "                                                   )"
   ]
  },
  {
   "cell_type": "code",
   "execution_count": 9,
   "id": "3889a1ed",
   "metadata": {
    "ExecuteTime": {
     "end_time": "2023-06-02T18:41:55.995848Z",
     "start_time": "2023-06-02T18:41:55.991571Z"
    },
    "run_control": {
     "marked": true
    }
   },
   "outputs": [
    {
     "data": {
      "text/plain": [
       "((16512, 8), (16512,), (4128, 8), (4128,))"
      ]
     },
     "execution_count": 9,
     "metadata": {},
     "output_type": "execute_result"
    }
   ],
   "source": [
    "X_train.shape, y_train.shape,  X_val.shape, y_val.shape"
   ]
  },
  {
   "cell_type": "code",
   "execution_count": 10,
   "id": "c2121a00",
   "metadata": {
    "ExecuteTime": {
     "end_time": "2023-06-02T18:41:55.999331Z",
     "start_time": "2023-06-02T18:41:55.996458Z"
    }
   },
   "outputs": [],
   "source": [
    "import pandas as pd\n",
    "from sklearn.model_selection import KFold\n",
    "\n",
    "class Splitter:\n",
    "    \"\"\"\n",
    "    A class used to split data into train/test sets.\n",
    "    \"\"\"\n",
    "    def __init__(self, X, y, n_splits=5, random_state=42, shuffle=True):\n",
    "        \"\"\"\n",
    "        The constructor for Splitter class.\n",
    "\n",
    "        Parameters:\n",
    "           X (DataFrame): Features\n",
    "           y (Series/DataFrame): Target variable\n",
    "           n_splits (int): Number of folds. Must be at least 2.\n",
    "           random_state (int): Random state for reproducibility.\n",
    "           shuffle (bool): Whether to shuffle the data before splitting into batches.\n",
    "        \"\"\"\n",
    "        self.X = X\n",
    "        self.y = y\n",
    "        self.n_splits = n_splits\n",
    "        self.random_state = random_state\n",
    "        self.shuffle = shuffle\n",
    "        self.kfold = KFold(n_splits=self.n_splits, random_state=self.random_state, shuffle=self.shuffle)\n",
    "        \n",
    "    def split_data(self):\n",
    "        X_train, X_test, y_train, y_test = [], [], [], []\n",
    "        \n",
    "        for train_index, test_index in self.kfold.split(self.X):\n",
    "            X_train_fold, X_test_fold = self.X.iloc[train_index], self.X.iloc[test_index]\n",
    "            y_train_fold, y_test_fold = self.y.iloc[train_index], self.y.iloc[test_index]\n",
    "            \n",
    "            X_train.append(X_train_fold)\n",
    "            X_test.append(X_test_fold)\n",
    "            y_train.append(y_train_fold)\n",
    "            y_test.append(y_test_fold)\n",
    "        \n",
    "        return  X_train, X_test, y_train, y_test"
   ]
  },
  {
   "cell_type": "code",
   "execution_count": 11,
   "id": "974811a8",
   "metadata": {
    "ExecuteTime": {
     "end_time": "2023-06-02T18:41:56.003300Z",
     "start_time": "2023-06-02T18:41:55.999861Z"
    }
   },
   "outputs": [],
   "source": [
    "def modeling(X_train_fold,y_train_fold, model):\n",
    "    models = []\n",
    "    for fold, data in enumerate(zip(X_train_fold, y_train_fold)):\n",
    "        X_train_fold, y_train_fold = data\n",
    "    \n",
    "        # Train your model on the training data\n",
    "        pipeline.fit(X_train_fold, y_train_fold)\n",
    "        models.append(pipeline)\n",
    "    return models\n"
   ]
  },
  {
   "cell_type": "code",
   "execution_count": 12,
   "id": "8b2a2b91",
   "metadata": {
    "ExecuteTime": {
     "end_time": "2023-06-02T18:41:56.006388Z",
     "start_time": "2023-06-02T18:41:56.004552Z"
    }
   },
   "outputs": [],
   "source": [
    "model = xgb.XGBRegressor()\n",
    "\n",
    "preprocessing = DataFramePreprocessing()\n",
    "\n",
    "steps = [('preprocessing', preprocessing)]# Create a list of tuples with the steps\n",
    "steps.append(('model', model))\n",
    "pipeline = Pipeline(steps=steps)"
   ]
  },
  {
   "cell_type": "code",
   "execution_count": 13,
   "id": "cad579fa",
   "metadata": {
    "ExecuteTime": {
     "end_time": "2023-06-02T18:41:56.012912Z",
     "start_time": "2023-06-02T18:41:56.007045Z"
    }
   },
   "outputs": [],
   "source": [
    "splitter = Splitter(X_train, y_train,n_splits=3, random_state=42)\n",
    "X_train_fold, X_test_fold, y_train_fold, y_test_fold = splitter.split_data()"
   ]
  },
  {
   "cell_type": "code",
   "execution_count": 14,
   "id": "368f387f",
   "metadata": {
    "ExecuteTime": {
     "end_time": "2023-06-02T18:41:56.903208Z",
     "start_time": "2023-06-02T18:41:56.013617Z"
    }
   },
   "outputs": [],
   "source": [
    "models = modeling(X_train_fold,y_train_fold, pipeline)"
   ]
  },
  {
   "cell_type": "code",
   "execution_count": 15,
   "id": "9658fa90",
   "metadata": {
    "ExecuteTime": {
     "end_time": "2023-06-02T18:41:56.907533Z",
     "start_time": "2023-06-02T18:41:56.904162Z"
    }
   },
   "outputs": [],
   "source": [
    "import pandas as pd\n",
    "from sklearn.pipeline import Pipeline\n",
    "from sklearn.model_selection import KFold\n",
    "import xgboost as xgb\n",
    "\n",
    "class ModelingPipeline:\n",
    "    \"\"\"\n",
    "    A class to preprocess, train and evaluate a model on different folds of the data.\n",
    "    \"\"\"\n",
    "    def __init__(self, X_train, y_train, model, preprocessing, n_splits=3, random_state=42):\n",
    "        self.X_train = X_train\n",
    "        self.y_train = y_train\n",
    "        self.model = model\n",
    "        self.preprocessing = preprocessing\n",
    "        self.n_splits = n_splits\n",
    "        self.random_state = random_state\n",
    "        self.splitter = KFold(n_splits=self.n_splits, random_state=self.random_state, shuffle=True)\n",
    "        self.models = []\n",
    "        self.steps = [('preprocessing', self.preprocessing), ('model', self.model)]\n",
    "        self.pipeline = Pipeline(steps=self.steps)\n",
    "\n",
    "    def fit_and_evaluate(self, X_val, y_val):\n",
    "        for train_index, test_index in self.splitter.split(self.X_train):\n",
    "            X_train_fold, y_train_fold = self.X_train.iloc[train_index], self.y_train.iloc[train_index]\n",
    "            \n",
    "            # Train your model on the training data\n",
    "            self.pipeline.fit(X_train_fold, y_train_fold)\n",
    "            self.models.append(self.pipeline)\n",
    "            \n",
    "            # Evaluate the model\n",
    "            print(f'Fold {len(self.models)}:', end=' ')\n",
    "            metrics = RegressionMetrics(self.pipeline, X_train_fold, y_train_fold, X_val, y_val, style=True)\n",
    "            output = metrics.run()\n",
    "            display(output)\n",
    "\n",
    "        return self.models\n"
   ]
  },
  {
   "cell_type": "code",
   "execution_count": 61,
   "id": "e5059cc1",
   "metadata": {
    "ExecuteTime": {
     "end_time": "2023-06-03T07:31:38.173634Z",
     "start_time": "2023-06-03T07:31:37.550352Z"
    }
   },
   "outputs": [
    {
     "name": "stdout",
     "output_type": "stream",
     "text": [
      "Fold 1: "
     ]
    },
    {
     "data": {
      "text/html": [
       "<style type=\"text/css\">\n",
       "#T_d7d57 caption {\n",
       "  color: Blue;\n",
       "  font-size: 28px;\n",
       "  font-weight: bold;\n",
       "}\n",
       "#T_d7d57_row0_col0 {\n",
       "  background-color: #445acc;\n",
       "  color: #f1f1f1;\n",
       "}\n",
       "#T_d7d57_row1_col0 {\n",
       "  background-color: #4257c9;\n",
       "  color: #f1f1f1;\n",
       "}\n",
       "#T_d7d57_row2_col0 {\n",
       "  background-color: #3c4ec2;\n",
       "  color: #f1f1f1;\n",
       "}\n",
       "#T_d7d57_row3_col0, #T_d7d57_row5_col0 {\n",
       "  background-color: #3b4cc0;\n",
       "  color: #f1f1f1;\n",
       "}\n",
       "#T_d7d57_row4_col0 {\n",
       "  background-color: #3e51c5;\n",
       "  color: #f1f1f1;\n",
       "}\n",
       "#T_d7d57_row6_col0 {\n",
       "  background-color: #b40426;\n",
       "  color: #f1f1f1;\n",
       "}\n",
       "#T_d7d57_row7_col0 {\n",
       "  background-color: #e9785d;\n",
       "  color: #f1f1f1;\n",
       "}\n",
       "#T_d7d57_row8_col0 {\n",
       "  background-color: #455cce;\n",
       "  color: #f1f1f1;\n",
       "}\n",
       "#T_d7d57_row9_col0 {\n",
       "  background-color: #536edd;\n",
       "  color: #f1f1f1;\n",
       "}\n",
       "</style>\n",
       "<table id=\"T_d7d57\">\n",
       "  <thead>\n",
       "    <tr>\n",
       "      <th class=\"blank level0\" >&nbsp;</th>\n",
       "      <th id=\"T_d7d57_level0_col0\" class=\"col_heading level0 col0\" >Value</th>\n",
       "    </tr>\n",
       "    <tr>\n",
       "      <th class=\"index_name level0\" >Metric</th>\n",
       "      <th class=\"blank col0\" >&nbsp;</th>\n",
       "    </tr>\n",
       "  </thead>\n",
       "  <tbody>\n",
       "    <tr>\n",
       "      <th id=\"T_d7d57_level0_row0\" class=\"row_heading level0 row0\" >Test R-squared</th>\n",
       "      <td id=\"T_d7d57_row0_col0\" class=\"data row0 col0\" >0.963452</td>\n",
       "    </tr>\n",
       "    <tr>\n",
       "      <th id=\"T_d7d57_level0_row1\" class=\"row_heading level0 row1\" >Val R-squared</th>\n",
       "      <td id=\"T_d7d57_row1_col0\" class=\"data row1 col0\" >0.809246</td>\n",
       "    </tr>\n",
       "    <tr>\n",
       "      <th id=\"T_d7d57_level0_row2\" class=\"row_heading level0 row2\" >MAE</th>\n",
       "      <td id=\"T_d7d57_row2_col0\" class=\"data row2 col0\" >0.336536</td>\n",
       "    </tr>\n",
       "    <tr>\n",
       "      <th id=\"T_d7d57_level0_row3\" class=\"row_heading level0 row3\" >MSE</th>\n",
       "      <td id=\"T_d7d57_row3_col0\" class=\"data row3 col0\" >0.249966</td>\n",
       "    </tr>\n",
       "    <tr>\n",
       "      <th id=\"T_d7d57_level0_row4\" class=\"row_heading level0 row4\" >RMSE</th>\n",
       "      <td id=\"T_d7d57_row4_col0\" class=\"data row4 col0\" >0.499966</td>\n",
       "    </tr>\n",
       "    <tr>\n",
       "      <th id=\"T_d7d57_level0_row5\" class=\"row_heading level0 row5\" >MAPE</th>\n",
       "      <td id=\"T_d7d57_row5_col0\" class=\"data row5 col0\" >0.196848</td>\n",
       "    </tr>\n",
       "    <tr>\n",
       "      <th id=\"T_d7d57_level0_row6\" class=\"row_heading level0 row6\" >AIC</th>\n",
       "      <td id=\"T_d7d57_row6_col0\" class=\"data row6 col0\" >23.423960</td>\n",
       "    </tr>\n",
       "    <tr>\n",
       "      <th id=\"T_d7d57_level0_row7\" class=\"row_heading level0 row7\" >BIC</th>\n",
       "      <td id=\"T_d7d57_row7_col0\" class=\"data row7 col0\" >19.423960</td>\n",
       "    </tr>\n",
       "    <tr>\n",
       "      <th id=\"T_d7d57_level0_row8\" class=\"row_heading level0 row8\" >Std Deviation</th>\n",
       "      <td id=\"T_d7d57_row8_col0\" class=\"data row8 col0\" >1.047575</td>\n",
       "    </tr>\n",
       "    <tr>\n",
       "      <th id=\"T_d7d57_level0_row9\" class=\"row_heading level0 row9\" >Mean</th>\n",
       "      <td id=\"T_d7d57_row9_col0\" class=\"data row9 col0\" >2.062500</td>\n",
       "    </tr>\n",
       "  </tbody>\n",
       "</table>\n"
      ],
      "text/plain": [
       "<pandas.io.formats.style.Styler at 0x7fdff013e5f0>"
      ]
     },
     "metadata": {},
     "output_type": "display_data"
    },
    {
     "name": "stdout",
     "output_type": "stream",
     "text": [
      "Fold 2: "
     ]
    },
    {
     "data": {
      "text/html": [
       "<style type=\"text/css\">\n",
       "#T_2fbca caption {\n",
       "  color: Blue;\n",
       "  font-size: 28px;\n",
       "  font-weight: bold;\n",
       "}\n",
       "#T_2fbca_row0_col0 {\n",
       "  background-color: #445acc;\n",
       "  color: #f1f1f1;\n",
       "}\n",
       "#T_2fbca_row1_col0 {\n",
       "  background-color: #4257c9;\n",
       "  color: #f1f1f1;\n",
       "}\n",
       "#T_2fbca_row2_col0 {\n",
       "  background-color: #3c4ec2;\n",
       "  color: #f1f1f1;\n",
       "}\n",
       "#T_2fbca_row3_col0, #T_2fbca_row5_col0 {\n",
       "  background-color: #3b4cc0;\n",
       "  color: #f1f1f1;\n",
       "}\n",
       "#T_2fbca_row4_col0 {\n",
       "  background-color: #3e51c5;\n",
       "  color: #f1f1f1;\n",
       "}\n",
       "#T_2fbca_row6_col0 {\n",
       "  background-color: #b40426;\n",
       "  color: #f1f1f1;\n",
       "}\n",
       "#T_2fbca_row7_col0 {\n",
       "  background-color: #e9785d;\n",
       "  color: #f1f1f1;\n",
       "}\n",
       "#T_2fbca_row8_col0 {\n",
       "  background-color: #455cce;\n",
       "  color: #f1f1f1;\n",
       "}\n",
       "#T_2fbca_row9_col0 {\n",
       "  background-color: #536edd;\n",
       "  color: #f1f1f1;\n",
       "}\n",
       "</style>\n",
       "<table id=\"T_2fbca\">\n",
       "  <thead>\n",
       "    <tr>\n",
       "      <th class=\"blank level0\" >&nbsp;</th>\n",
       "      <th id=\"T_2fbca_level0_col0\" class=\"col_heading level0 col0\" >Value</th>\n",
       "    </tr>\n",
       "    <tr>\n",
       "      <th class=\"index_name level0\" >Metric</th>\n",
       "      <th class=\"blank col0\" >&nbsp;</th>\n",
       "    </tr>\n",
       "  </thead>\n",
       "  <tbody>\n",
       "    <tr>\n",
       "      <th id=\"T_2fbca_level0_row0\" class=\"row_heading level0 row0\" >Test R-squared</th>\n",
       "      <td id=\"T_2fbca_row0_col0\" class=\"data row0 col0\" >0.963209</td>\n",
       "    </tr>\n",
       "    <tr>\n",
       "      <th id=\"T_2fbca_level0_row1\" class=\"row_heading level0 row1\" >Val R-squared</th>\n",
       "      <td id=\"T_2fbca_row1_col0\" class=\"data row1 col0\" >0.805525</td>\n",
       "    </tr>\n",
       "    <tr>\n",
       "      <th id=\"T_2fbca_level0_row2\" class=\"row_heading level0 row2\" >MAE</th>\n",
       "      <td id=\"T_2fbca_row2_col0\" class=\"data row2 col0\" >0.333840</td>\n",
       "    </tr>\n",
       "    <tr>\n",
       "      <th id=\"T_2fbca_level0_row3\" class=\"row_heading level0 row3\" >MSE</th>\n",
       "      <td id=\"T_2fbca_row3_col0\" class=\"data row3 col0\" >0.254841</td>\n",
       "    </tr>\n",
       "    <tr>\n",
       "      <th id=\"T_2fbca_level0_row4\" class=\"row_heading level0 row4\" >RMSE</th>\n",
       "      <td id=\"T_2fbca_row4_col0\" class=\"data row4 col0\" >0.504818</td>\n",
       "    </tr>\n",
       "    <tr>\n",
       "      <th id=\"T_2fbca_level0_row5\" class=\"row_heading level0 row5\" >MAPE</th>\n",
       "      <td id=\"T_2fbca_row5_col0\" class=\"data row5 col0\" >0.193445</td>\n",
       "    </tr>\n",
       "    <tr>\n",
       "      <th id=\"T_2fbca_level0_row6\" class=\"row_heading level0 row6\" >AIC</th>\n",
       "      <td id=\"T_2fbca_row6_col0\" class=\"data row6 col0\" >23.385325</td>\n",
       "    </tr>\n",
       "    <tr>\n",
       "      <th id=\"T_2fbca_level0_row7\" class=\"row_heading level0 row7\" >BIC</th>\n",
       "      <td id=\"T_2fbca_row7_col0\" class=\"data row7 col0\" >19.385325</td>\n",
       "    </tr>\n",
       "    <tr>\n",
       "      <th id=\"T_2fbca_level0_row8\" class=\"row_heading level0 row8\" >Std Deviation</th>\n",
       "      <td id=\"T_2fbca_row8_col0\" class=\"data row8 col0\" >1.062548</td>\n",
       "    </tr>\n",
       "    <tr>\n",
       "      <th id=\"T_2fbca_level0_row9\" class=\"row_heading level0 row9\" >Mean</th>\n",
       "      <td id=\"T_2fbca_row9_col0\" class=\"data row9 col0\" >2.068632</td>\n",
       "    </tr>\n",
       "  </tbody>\n",
       "</table>\n"
      ],
      "text/plain": [
       "<pandas.io.formats.style.Styler at 0x7fdff02eaa70>"
      ]
     },
     "metadata": {},
     "output_type": "display_data"
    }
   ],
   "source": [
    "model = xgb.XGBRegressor()\n",
    "preprocessing = DataFramePreprocessing()\n",
    "\n",
    "pipeline = ModelingPipeline(X_train, y_train, model, preprocessing, n_splits=2, random_state=42)\n",
    "models = pipeline.fit_and_evaluate(X_val, y_val)\n",
    "\n"
   ]
  },
  {
   "cell_type": "code",
   "execution_count": 46,
   "id": "e6dae796",
   "metadata": {
    "ExecuteTime": {
     "end_time": "2023-06-02T18:48:17.919765Z",
     "start_time": "2023-06-02T18:48:17.918246Z"
    }
   },
   "outputs": [],
   "source": [
    "from sklearn.ensemble import VotingRegressor, StackingRegressor"
   ]
  },
  {
   "cell_type": "code",
   "execution_count": 59,
   "id": "d1c45484",
   "metadata": {
    "ExecuteTime": {
     "end_time": "2023-06-03T07:31:20.753260Z",
     "start_time": "2023-06-03T07:31:18.524419Z"
    }
   },
   "outputs": [],
   "source": [
    "# Combine all the models into a single list\n",
    "all_models = [(f'model_{i}', model) for i, model in enumerate(models_1 + models_2 + models_3)]\n",
    "\n",
    "# Create the voting regressor\n",
    "voting_regressor = VotingRegressor(estimators=all_models,)\n",
    "\n",
    "# Fit the voting regressor to the data\n",
    "voting_regressor.fit(X_train, y_train)\n",
    "\n",
    "# Use the voting regressor for prediction\n",
    "y_pred = voting_regressor.predict(X_val)"
   ]
  },
  {
   "cell_type": "code",
   "execution_count": 60,
   "id": "ba00f913",
   "metadata": {
    "ExecuteTime": {
     "end_time": "2023-06-03T07:31:20.757868Z",
     "start_time": "2023-06-03T07:31:20.754356Z"
    }
   },
   "outputs": [
    {
     "name": "stdout",
     "output_type": "stream",
     "text": [
      "mae    0.31130193403396494\n",
      "mape:  0.18034528238011363\n",
      "rmse:  0.47390178084380813\n",
      "r2:    0.8286161789059061\n",
      "y_pred std 1.0591562\n"
     ]
    }
   ],
   "source": [
    "print(\"mae   \",mean_absolute_error(y_val, y_pred))\n",
    "print(\"mape: \",mean_absolute_percentage_error(y_val, y_pred))\n",
    "print(\"rmse: \",mean_squared_error(y_val, y_pred,squared=False))\n",
    "print(\"r2:   \",r2_score(y_val, y_pred))\n",
    "print('y_pred std', y_pred.std())"
   ]
  },
  {
   "cell_type": "code",
   "execution_count": 48,
   "id": "69d4c964",
   "metadata": {
    "ExecuteTime": {
     "end_time": "2023-06-02T18:48:20.341594Z",
     "start_time": "2023-06-02T18:48:20.339129Z"
    },
    "scrolled": true
   },
   "outputs": [],
   "source": [
    "metrics = RegressionMetrics(voting_regressor, X_train, y_train, X_val, y_val, style = True,is_model=True)\n",
    "metrics.run()"
   ]
  },
  {
   "cell_type": "code",
   "execution_count": 49,
   "id": "47bdb595",
   "metadata": {
    "ExecuteTime": {
     "end_time": "2023-06-02T18:48:20.429515Z",
     "start_time": "2023-06-02T18:48:20.342361Z"
    }
   },
   "outputs": [
    {
     "data": {
      "text/html": [
       "<style type=\"text/css\">\n",
       "#T_eb861 caption {\n",
       "  color: Blue;\n",
       "  font-size: 28px;\n",
       "  font-weight: bold;\n",
       "}\n",
       "#T_eb861_row0_col0 {\n",
       "  background-color: #94b6ff;\n",
       "  color: #000000;\n",
       "}\n",
       "#T_eb861_row1_col0 {\n",
       "  background-color: #86a9fc;\n",
       "  color: #f1f1f1;\n",
       "}\n",
       "#T_eb861_row2_col0 {\n",
       "  background-color: #485fd1;\n",
       "  color: #f1f1f1;\n",
       "}\n",
       "#T_eb861_row3_col0 {\n",
       "  background-color: #3f53c6;\n",
       "  color: #f1f1f1;\n",
       "}\n",
       "#T_eb861_row4_col0 {\n",
       "  background-color: #5a78e4;\n",
       "  color: #f1f1f1;\n",
       "}\n",
       "#T_eb861_row5_col0 {\n",
       "  background-color: #3b4cc0;\n",
       "  color: #f1f1f1;\n",
       "}\n",
       "#T_eb861_row6_col0, #T_eb861_row7_col0 {\n",
       "  background-color: #b40426;\n",
       "  color: #f1f1f1;\n",
       "}\n",
       "#T_eb861_row8_col0 {\n",
       "  background-color: #a3c2fe;\n",
       "  color: #000000;\n",
       "}\n",
       "#T_eb861_row9_col0 {\n",
       "  background-color: #f7b79b;\n",
       "  color: #000000;\n",
       "}\n",
       "</style>\n",
       "<table id=\"T_eb861\">\n",
       "  <thead>\n",
       "    <tr>\n",
       "      <th class=\"blank level0\" >&nbsp;</th>\n",
       "      <th id=\"T_eb861_level0_col0\" class=\"col_heading level0 col0\" >Value</th>\n",
       "    </tr>\n",
       "    <tr>\n",
       "      <th class=\"index_name level0\" >Metric</th>\n",
       "      <th class=\"blank col0\" >&nbsp;</th>\n",
       "    </tr>\n",
       "  </thead>\n",
       "  <tbody>\n",
       "    <tr>\n",
       "      <th id=\"T_eb861_level0_row0\" class=\"row_heading level0 row0\" >Test R-squared</th>\n",
       "      <td id=\"T_eb861_row0_col0\" class=\"data row0 col0\" >0.943187</td>\n",
       "    </tr>\n",
       "    <tr>\n",
       "      <th id=\"T_eb861_level0_row1\" class=\"row_heading level0 row1\" >Val R-squared</th>\n",
       "      <td id=\"T_eb861_row1_col0\" class=\"data row1 col0\" >0.828616</td>\n",
       "    </tr>\n",
       "    <tr>\n",
       "      <th id=\"T_eb861_level0_row2\" class=\"row_heading level0 row2\" >MAE</th>\n",
       "      <td id=\"T_eb861_row2_col0\" class=\"data row2 col0\" >0.311302</td>\n",
       "    </tr>\n",
       "    <tr>\n",
       "      <th id=\"T_eb861_level0_row3\" class=\"row_heading level0 row3\" >MSE</th>\n",
       "      <td id=\"T_eb861_row3_col0\" class=\"data row3 col0\" >0.224583</td>\n",
       "    </tr>\n",
       "    <tr>\n",
       "      <th id=\"T_eb861_level0_row4\" class=\"row_heading level0 row4\" >RMSE</th>\n",
       "      <td id=\"T_eb861_row4_col0\" class=\"data row4 col0\" >0.473902</td>\n",
       "    </tr>\n",
       "    <tr>\n",
       "      <th id=\"T_eb861_level0_row5\" class=\"row_heading level0 row5\" >MAPE</th>\n",
       "      <td id=\"T_eb861_row5_col0\" class=\"data row5 col0\" >0.180345</td>\n",
       "    </tr>\n",
       "    <tr>\n",
       "      <th id=\"T_eb861_level0_row6\" class=\"row_heading level0 row6\" >AIC</th>\n",
       "      <td id=\"T_eb861_row6_col0\" class=\"data row6 col0\" >2.987021</td>\n",
       "    </tr>\n",
       "    <tr>\n",
       "      <th id=\"T_eb861_level0_row7\" class=\"row_heading level0 row7\" >BIC</th>\n",
       "      <td id=\"T_eb861_row7_col0\" class=\"data row7 col0\" >2.987021</td>\n",
       "    </tr>\n",
       "    <tr>\n",
       "      <th id=\"T_eb861_level0_row8\" class=\"row_heading level0 row8\" >Std Deviation</th>\n",
       "      <td id=\"T_eb861_row8_col0\" class=\"data row8 col0\" >1.059156</td>\n",
       "    </tr>\n",
       "    <tr>\n",
       "      <th id=\"T_eb861_level0_row9\" class=\"row_heading level0 row9\" >Mean</th>\n",
       "      <td id=\"T_eb861_row9_col0\" class=\"data row9 col0\" >2.064616</td>\n",
       "    </tr>\n",
       "  </tbody>\n",
       "</table>\n"
      ],
      "text/plain": [
       "<pandas.io.formats.style.Styler at 0x7fdff013f190>"
      ]
     },
     "execution_count": 49,
     "metadata": {},
     "output_type": "execute_result"
    }
   ],
   "source": []
  },
  {
   "cell_type": "code",
   "execution_count": null,
   "id": "82e3b709",
   "metadata": {
    "ExecuteTime": {
     "end_time": "2023-06-02T18:48:20.435976Z",
     "start_time": "2023-06-02T18:48:20.435965Z"
    }
   },
   "outputs": [],
   "source": [
    "from sklearn.ensemble import VotingRegressor"
   ]
  },
  {
   "cell_type": "code",
   "execution_count": null,
   "id": "432d63af",
   "metadata": {
    "ExecuteTime": {
     "end_time": "2023-06-02T18:48:20.436931Z",
     "start_time": "2023-06-02T18:48:20.436920Z"
    }
   },
   "outputs": [],
   "source": [
    "models_1.extend(models_2)"
   ]
  },
  {
   "cell_type": "code",
   "execution_count": null,
   "id": "800bfd46",
   "metadata": {
    "ExecuteTime": {
     "end_time": "2023-06-02T18:48:20.437590Z",
     "start_time": "2023-06-02T18:48:20.437581Z"
    }
   },
   "outputs": [],
   "source": [
    "models_1.extend(models_3)"
   ]
  },
  {
   "cell_type": "code",
   "execution_count": null,
   "id": "90a2bae2",
   "metadata": {
    "ExecuteTime": {
     "end_time": "2023-06-02T18:48:20.438391Z",
     "start_time": "2023-06-02T18:48:20.438385Z"
    }
   },
   "outputs": [],
   "source": [
    "VotingRegressor(models_1)"
   ]
  },
  {
   "cell_type": "code",
   "execution_count": null,
   "id": "5524b448",
   "metadata": {
    "ExecuteTime": {
     "end_time": "2023-06-02T18:48:20.438696Z",
     "start_time": "2023-06-02T18:48:20.438692Z"
    }
   },
   "outputs": [],
   "source": [
    "def modeling(X_train_fold,y_train_fold, model):\n",
    "    models = []\n",
    "    for fold, data in enumerate(zip(X_train_fold, y_train_fold)):\n",
    "        X_train_fold, y_train_fold = data\n",
    "    \n",
    "        # Train your model on the training data\n",
    "        pipeline.fit(X_train_fold, y_train_fold)\n",
    "        models.append(pipeline)\n",
    "    return models\n",
    "model = xgb.XGBRegressor()\n",
    "\n",
    "preprocessing = DataFramePreprocessing()\n",
    "\n",
    "steps = [('preprocessing', preprocessing)]# Create a list of tuples with the steps\n",
    "steps.append(('model', model))\n",
    "pipeline = Pipeline(steps=steps)\n",
    "splitter = Splitter(X_train, y_train,n_splits=3, random_state=42)\n",
    "X_train_fold, X_test_fold, y_train_fold, y_test_fold = splitter.split_data()\n",
    "for fold, model in enumerate(models):\n",
    "    print(f'Fold {fold}:', end=' ')\n",
    "    \n",
    "    metrics = RegressionMetrics(model, X_train_fold[fold], y_train_fold[fold], X_val, y_val, style = True)\n",
    "    output = metrics.run()\n",
    "        \n",
    "    display(output)"
   ]
  },
  {
   "cell_type": "code",
   "execution_count": null,
   "id": "9460bcb8",
   "metadata": {
    "ExecuteTime": {
     "end_time": "2023-06-02T18:48:20.439068Z",
     "start_time": "2023-06-02T18:48:20.439063Z"
    },
    "run_control": {
     "marked": false
    }
   },
   "outputs": [],
   "source": [
    "for fold, model in enumerate(models):\n",
    "    print(f'Fold {fold}:', end=' ')\n",
    "    \n",
    "    metrics = RegressionMetrics(model, X_train_fold[fold], y_train_fold[fold], X_val, y_val, style = True)\n",
    "    output = metrics.run()\n",
    "        \n",
    "    display(output)\n",
    "    "
   ]
  },
  {
   "cell_type": "code",
   "execution_count": null,
   "id": "7c0436d5",
   "metadata": {},
   "outputs": [],
   "source": []
  },
  {
   "cell_type": "code",
   "execution_count": null,
   "id": "d1cf8640",
   "metadata": {},
   "outputs": [],
   "source": []
  }
 ],
 "metadata": {
  "hide_input": false,
  "kernelspec": {
   "display_name": "Python 3 (ipykernel)",
   "language": "python",
   "name": "python3"
  },
  "language_info": {
   "codemirror_mode": {
    "name": "ipython",
    "version": 3
   },
   "file_extension": ".py",
   "mimetype": "text/x-python",
   "name": "python",
   "nbconvert_exporter": "python",
   "pygments_lexer": "ipython3",
   "version": "3.10.8"
  },
  "toc": {
   "base_numbering": 1,
   "nav_menu": {},
   "number_sections": true,
   "sideBar": true,
   "skip_h1_title": false,
   "title_cell": "Table of Contents",
   "title_sidebar": "Contents",
   "toc_cell": false,
   "toc_position": {},
   "toc_section_display": true,
   "toc_window_display": false
  }
 },
 "nbformat": 4,
 "nbformat_minor": 5
}
