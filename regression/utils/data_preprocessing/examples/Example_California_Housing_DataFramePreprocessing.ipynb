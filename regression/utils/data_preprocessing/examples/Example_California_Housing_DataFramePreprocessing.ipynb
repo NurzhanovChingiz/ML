{
 "cells": [
  {
   "cell_type": "markdown",
   "id": "c162a577",
   "metadata": {},
   "source": [
    "# Example"
   ]
  },
  {
   "cell_type": "markdown",
   "id": "a9e9fcc4",
   "metadata": {},
   "source": [
    "## Libs"
   ]
  },
  {
   "cell_type": "code",
   "execution_count": 1,
   "id": "d572b08d",
   "metadata": {
    "ExecuteTime": {
     "end_time": "2023-06-03T09:49:11.626701Z",
     "start_time": "2023-06-03T09:49:11.259182Z"
    }
   },
   "outputs": [],
   "source": [
    "from sklearn.base import BaseEstimator, TransformerMixin\n",
    "from sklearn.utils.validation import check_X_y, check_array, check_is_fitted\n",
    "from sklearn.impute import SimpleImputer\n",
    "from sklearn.preprocessing import StandardScaler, OrdinalEncoder\n",
    "from sklearn_pandas import DataFrameMapper\n",
    "\n",
    "class DataFramePreprocessing(TransformerMixin, BaseEstimator):\n",
    "    '''DataFramePreprocessing class fits and transforms all features and returns a Pandas DataFrame'''\n",
    "\n",
    "    def __init__(self):\n",
    "        '''\n",
    "        Constructor for DataFramePreprocessing class.\n",
    "\n",
    "        Parameters:\n",
    "        - X (pandas.DataFrame): Input DataFrame.\n",
    "        '''\n",
    "        self.X = None\n",
    "        self.numerical_features = []\n",
    "        self.categorical_features = []\n",
    "        self.boolean_features = []\n",
    "    def get_features(self):\n",
    "        '''\n",
    "        Extracts the numeric, categorical, and boolean features from the input DataFrame.\n",
    "\n",
    "        Parameters:\n",
    "        - X (pandas.DataFrame): Input DataFrame.\n",
    "\n",
    "        Returns:\n",
    "        - None\n",
    "        '''\n",
    "        self.numerical_features = self.X.select_dtypes(include=['int16', 'float16', 'int32', 'float32', 'int64', 'float64']).columns\n",
    "        self.categorical_features = self.X.select_dtypes(include=['object']).columns\n",
    "        self.boolean_features = self.X.select_dtypes(include=['bool']).columns\n",
    "        \n",
    "    def categorical_transformer(self):\n",
    "        '''\n",
    "        Creates a list of tuples specifying the transformations for categorical features.\n",
    "\n",
    "        Returns:\n",
    "        - list: List of tuples, where each tuple contains a feature name and a transformation pipeline.\n",
    "        '''\n",
    "        return [([feature], [SimpleImputer(strategy='most_frequent'), OrdinalEncoder(handle_unknown=\"use_encoded_value\", unknown_value=-999)]) for feature in self.categorical_features]\n",
    "\n",
    "    def numerical_transformer(self):\n",
    "        '''\n",
    "        Creates a list of tuples specifying the transformations for numerical features.\n",
    "\n",
    "        Returns:\n",
    "        - list: List of tuples, where each tuple contains a feature name and a transformation pipeline.\n",
    "        '''\n",
    "        return [([feature], [SimpleImputer(strategy='most_frequent'), StandardScaler()]) for feature in self.numerical_features]\n",
    "\n",
    "    def boolean_transformer(self):\n",
    "        '''\n",
    "        Creates a list of tuples specifying the transformations for boolean features.\n",
    "\n",
    "        Returns:\n",
    "        - list: List of tuples, where each tuple contains a feature name and a transformation pipeline.\n",
    "        '''\n",
    "        return [([feature], [SimpleImputer(strategy='most_frequent'), OrdinalEncoder(handle_unknown=\"use_encoded_value\", unknown_value=-999)]) for feature in self.boolean_features]\n",
    "\n",
    "    def mapper(self):\n",
    "        '''\n",
    "        Creates a DataFrameMapper object that combines all the feature transformations.\n",
    "\n",
    "        Returns:\n",
    "        - DataFrameMapper: DataFrameMapper object that applies the specified transformations to the input data.\n",
    "        '''\n",
    "        \n",
    "        return DataFrameMapper(self.numerical_transformer() + self.categorical_transformer() + self.boolean_transformer(), df_out=True)\n",
    "\n",
    "    def fit(self, X, y=None):\n",
    "        '''\n",
    "        Fits the DataFramePreprocessing transformer on the input data.\n",
    "\n",
    "        Parameters:\n",
    "        - X (array-like or DataFrame): Input data to fit the transformer on.\n",
    "        - y (array-like or None): Target values (ignored).\n",
    "\n",
    "        Returns:\n",
    "        - self: Returns the instance itself.\n",
    "        '''\n",
    "        X = X.copy()\n",
    "        self.X = X\n",
    "        self.get_features()\n",
    "        self.mapper()\n",
    "        X = check_array(X, accept_sparse=False)\n",
    "\n",
    "        self.n_features_in_ = X.shape[1]\n",
    "        self.n_features_ = X.shape[1]\n",
    "        self.is_fitted_ = True\n",
    "\n",
    "        return self\n",
    "\n",
    "    def transform(self, X):\n",
    "        '''\n",
    "        Transforms the input data using the fitted DataFramePreprocessing transformer.\n",
    "    \n",
    "        Parameters:\n",
    "        - X (array-like or DataFrame): Input data to transform.\n",
    "    \n",
    "        Returns:\n",
    "        - array-like or DataFrame: Transformed data.\n",
    "        '''\n",
    "        X = X.copy()\n",
    "        \n",
    "        check_is_fitted(self, ['is_fitted_'])\n",
    "        X = check_array(X, accept_sparse=True)\n",
    "    \n",
    "        if X.shape[1] != self.n_features_:\n",
    "            raise ValueError('Shape of input is different from what was seen in `fit`')\n",
    "        return X"
   ]
  },
  {
   "cell_type": "code",
   "execution_count": 2,
   "id": "0f51bb15",
   "metadata": {
    "ExecuteTime": {
     "end_time": "2023-06-03T09:49:11.630074Z",
     "start_time": "2023-06-03T09:49:11.627642Z"
    }
   },
   "outputs": [],
   "source": [
    "from ML.regression.utils.metrics.RegressionMetrics import RegressionMetrics"
   ]
  },
  {
   "cell_type": "code",
   "execution_count": 3,
   "id": "ccf43ab8",
   "metadata": {
    "ExecuteTime": {
     "end_time": "2023-06-03T09:49:11.653018Z",
     "start_time": "2023-06-03T09:49:11.631028Z"
    }
   },
   "outputs": [],
   "source": [
    "from sklearn.datasets import fetch_california_housing\n",
    "# Split\n",
    "from sklearn.model_selection import train_test_split\n",
    "# Model\n",
    "import xgboost as xgb\n",
    "\n",
    "from sklearn.pipeline import Pipeline"
   ]
  },
  {
   "cell_type": "markdown",
   "id": "5a2406fd",
   "metadata": {},
   "source": [
    "## Config"
   ]
  },
  {
   "cell_type": "code",
   "execution_count": 4,
   "id": "0a04f209",
   "metadata": {
    "ExecuteTime": {
     "end_time": "2023-06-03T09:49:11.655227Z",
     "start_time": "2023-06-03T09:49:11.653793Z"
    }
   },
   "outputs": [],
   "source": [
    "class CFG:\n",
    "    #Random seed\n",
    "    SEED = 42"
   ]
  },
  {
   "cell_type": "markdown",
   "id": "acb42a36",
   "metadata": {},
   "source": [
    "## train test validate split"
   ]
  },
  {
   "cell_type": "code",
   "execution_count": 5,
   "id": "67753edb",
   "metadata": {
    "ExecuteTime": {
     "end_time": "2023-06-03T09:49:11.666600Z",
     "start_time": "2023-06-03T09:49:11.655798Z"
    }
   },
   "outputs": [],
   "source": [
    "X, y = fetch_california_housing(as_frame=True,return_X_y =True)"
   ]
  },
  {
   "cell_type": "code",
   "execution_count": 6,
   "id": "5bb4ef0a",
   "metadata": {
    "ExecuteTime": {
     "end_time": "2023-06-03T09:49:11.670487Z",
     "start_time": "2023-06-03T09:49:11.667259Z"
    }
   },
   "outputs": [],
   "source": [
    "X_train, X_test, y_train, y_test = train_test_split(X, y, test_size=0.20,\n",
    "                                                    random_state=CFG.SEED,\n",
    "                                                    shuffle = True,\n",
    "                                                   )\n",
    "X_test, X_val, y_test, y_val = train_test_split(X_test, y_test, test_size=0.50,\n",
    "                                                random_state=CFG.SEED,\n",
    "                                                shuffle = True,\n",
    "                                               )"
   ]
  },
  {
   "cell_type": "markdown",
   "id": "acacf7ff",
   "metadata": {},
   "source": [
    "## Shape"
   ]
  },
  {
   "cell_type": "code",
   "execution_count": 7,
   "id": "d010fa10",
   "metadata": {
    "ExecuteTime": {
     "end_time": "2023-06-03T09:49:11.674963Z",
     "start_time": "2023-06-03T09:49:11.671060Z"
    }
   },
   "outputs": [
    {
     "data": {
      "text/plain": [
       "((16512, 8), (2064, 8), (16512,), (2064,), (2064, 8), (2064,))"
      ]
     },
     "execution_count": 7,
     "metadata": {},
     "output_type": "execute_result"
    }
   ],
   "source": [
    "X_train.shape, X_test.shape, y_train.shape, y_test.shape, X_val.shape, y_val.shape"
   ]
  },
  {
   "cell_type": "code",
   "execution_count": 8,
   "id": "5d65bd29",
   "metadata": {
    "ExecuteTime": {
     "end_time": "2023-06-03T09:49:11.677676Z",
     "start_time": "2023-06-03T09:49:11.675560Z"
    }
   },
   "outputs": [],
   "source": [
    "model = xgb.XGBRegressor()"
   ]
  },
  {
   "cell_type": "code",
   "execution_count": 9,
   "id": "de57ef8e",
   "metadata": {
    "ExecuteTime": {
     "end_time": "2023-06-03T09:49:11.680805Z",
     "start_time": "2023-06-03T09:49:11.678177Z"
    }
   },
   "outputs": [],
   "source": [
    "preprocessing = DataFramePreprocessing()"
   ]
  },
  {
   "cell_type": "code",
   "execution_count": 10,
   "id": "ca6e3206",
   "metadata": {
    "ExecuteTime": {
     "end_time": "2023-06-03T09:49:11.683928Z",
     "start_time": "2023-06-03T09:49:11.681276Z"
    }
   },
   "outputs": [],
   "source": [
    "steps = [('preprocessing', preprocessing)]# Create a list of tuples with the steps\n",
    "steps.append(('model', model))\n",
    "pipeline = Pipeline(steps=steps)"
   ]
  },
  {
   "cell_type": "markdown",
   "id": "12c996a2",
   "metadata": {},
   "source": [
    "## Modeling"
   ]
  },
  {
   "cell_type": "code",
   "execution_count": 11,
   "id": "3693a3ea",
   "metadata": {
    "ExecuteTime": {
     "end_time": "2023-06-03T09:49:12.371494Z",
     "start_time": "2023-06-03T09:49:11.684490Z"
    }
   },
   "outputs": [
    {
     "data": {
      "text/html": [
       "<style>#sk-container-id-1 {color: black;background-color: white;}#sk-container-id-1 pre{padding: 0;}#sk-container-id-1 div.sk-toggleable {background-color: white;}#sk-container-id-1 label.sk-toggleable__label {cursor: pointer;display: block;width: 100%;margin-bottom: 0;padding: 0.3em;box-sizing: border-box;text-align: center;}#sk-container-id-1 label.sk-toggleable__label-arrow:before {content: \"▸\";float: left;margin-right: 0.25em;color: #696969;}#sk-container-id-1 label.sk-toggleable__label-arrow:hover:before {color: black;}#sk-container-id-1 div.sk-estimator:hover label.sk-toggleable__label-arrow:before {color: black;}#sk-container-id-1 div.sk-toggleable__content {max-height: 0;max-width: 0;overflow: hidden;text-align: left;background-color: #f0f8ff;}#sk-container-id-1 div.sk-toggleable__content pre {margin: 0.2em;color: black;border-radius: 0.25em;background-color: #f0f8ff;}#sk-container-id-1 input.sk-toggleable__control:checked~div.sk-toggleable__content {max-height: 200px;max-width: 100%;overflow: auto;}#sk-container-id-1 input.sk-toggleable__control:checked~label.sk-toggleable__label-arrow:before {content: \"▾\";}#sk-container-id-1 div.sk-estimator input.sk-toggleable__control:checked~label.sk-toggleable__label {background-color: #d4ebff;}#sk-container-id-1 div.sk-label input.sk-toggleable__control:checked~label.sk-toggleable__label {background-color: #d4ebff;}#sk-container-id-1 input.sk-hidden--visually {border: 0;clip: rect(1px 1px 1px 1px);clip: rect(1px, 1px, 1px, 1px);height: 1px;margin: -1px;overflow: hidden;padding: 0;position: absolute;width: 1px;}#sk-container-id-1 div.sk-estimator {font-family: monospace;background-color: #f0f8ff;border: 1px dotted black;border-radius: 0.25em;box-sizing: border-box;margin-bottom: 0.5em;}#sk-container-id-1 div.sk-estimator:hover {background-color: #d4ebff;}#sk-container-id-1 div.sk-parallel-item::after {content: \"\";width: 100%;border-bottom: 1px solid gray;flex-grow: 1;}#sk-container-id-1 div.sk-label:hover label.sk-toggleable__label {background-color: #d4ebff;}#sk-container-id-1 div.sk-serial::before {content: \"\";position: absolute;border-left: 1px solid gray;box-sizing: border-box;top: 0;bottom: 0;left: 50%;z-index: 0;}#sk-container-id-1 div.sk-serial {display: flex;flex-direction: column;align-items: center;background-color: white;padding-right: 0.2em;padding-left: 0.2em;position: relative;}#sk-container-id-1 div.sk-item {position: relative;z-index: 1;}#sk-container-id-1 div.sk-parallel {display: flex;align-items: stretch;justify-content: center;background-color: white;position: relative;}#sk-container-id-1 div.sk-item::before, #sk-container-id-1 div.sk-parallel-item::before {content: \"\";position: absolute;border-left: 1px solid gray;box-sizing: border-box;top: 0;bottom: 0;left: 50%;z-index: -1;}#sk-container-id-1 div.sk-parallel-item {display: flex;flex-direction: column;z-index: 1;position: relative;background-color: white;}#sk-container-id-1 div.sk-parallel-item:first-child::after {align-self: flex-end;width: 50%;}#sk-container-id-1 div.sk-parallel-item:last-child::after {align-self: flex-start;width: 50%;}#sk-container-id-1 div.sk-parallel-item:only-child::after {width: 0;}#sk-container-id-1 div.sk-dashed-wrapped {border: 1px dashed gray;margin: 0 0.4em 0.5em 0.4em;box-sizing: border-box;padding-bottom: 0.4em;background-color: white;}#sk-container-id-1 div.sk-label label {font-family: monospace;font-weight: bold;display: inline-block;line-height: 1.2em;}#sk-container-id-1 div.sk-label-container {text-align: center;}#sk-container-id-1 div.sk-container {/* jupyter's `normalize.less` sets `[hidden] { display: none; }` but bootstrap.min.css set `[hidden] { display: none !important; }` so we also need the `!important` here to be able to override the default hidden behavior on the sphinx rendered scikit-learn.org. See: https://github.com/scikit-learn/scikit-learn/issues/21755 */display: inline-block !important;position: relative;}#sk-container-id-1 div.sk-text-repr-fallback {display: none;}</style><div id=\"sk-container-id-1\" class=\"sk-top-container\"><div class=\"sk-text-repr-fallback\"><pre>Pipeline(steps=[(&#x27;preprocessing&#x27;, DataFramePreprocessing()),\n",
       "                (&#x27;model&#x27;,\n",
       "                 XGBRegressor(base_score=0.5, booster=&#x27;gbtree&#x27;, callbacks=None,\n",
       "                              colsample_bylevel=1, colsample_bynode=1,\n",
       "                              colsample_bytree=1, early_stopping_rounds=None,\n",
       "                              enable_categorical=False, eval_metric=None,\n",
       "                              feature_types=None, gamma=0, gpu_id=-1,\n",
       "                              grow_policy=&#x27;depthwise&#x27;, importance_type=None,\n",
       "                              interaction_constraints=&#x27;&#x27;,\n",
       "                              learning_rate=0.300000012, max_bin=256,\n",
       "                              max_cat_threshold=64, max_cat_to_onehot=4,\n",
       "                              max_delta_step=0, max_depth=6, max_leaves=0,\n",
       "                              min_child_weight=1, missing=nan,\n",
       "                              monotone_constraints=&#x27;()&#x27;, n_estimators=100,\n",
       "                              n_jobs=0, num_parallel_tree=1, predictor=&#x27;auto&#x27;,\n",
       "                              random_state=0, ...))])</pre><b>In a Jupyter environment, please rerun this cell to show the HTML representation or trust the notebook. <br />On GitHub, the HTML representation is unable to render, please try loading this page with nbviewer.org.</b></div><div class=\"sk-container\" hidden><div class=\"sk-item sk-dashed-wrapped\"><div class=\"sk-label-container\"><div class=\"sk-label sk-toggleable\"><input class=\"sk-toggleable__control sk-hidden--visually\" id=\"sk-estimator-id-1\" type=\"checkbox\" ><label for=\"sk-estimator-id-1\" class=\"sk-toggleable__label sk-toggleable__label-arrow\">Pipeline</label><div class=\"sk-toggleable__content\"><pre>Pipeline(steps=[(&#x27;preprocessing&#x27;, DataFramePreprocessing()),\n",
       "                (&#x27;model&#x27;,\n",
       "                 XGBRegressor(base_score=0.5, booster=&#x27;gbtree&#x27;, callbacks=None,\n",
       "                              colsample_bylevel=1, colsample_bynode=1,\n",
       "                              colsample_bytree=1, early_stopping_rounds=None,\n",
       "                              enable_categorical=False, eval_metric=None,\n",
       "                              feature_types=None, gamma=0, gpu_id=-1,\n",
       "                              grow_policy=&#x27;depthwise&#x27;, importance_type=None,\n",
       "                              interaction_constraints=&#x27;&#x27;,\n",
       "                              learning_rate=0.300000012, max_bin=256,\n",
       "                              max_cat_threshold=64, max_cat_to_onehot=4,\n",
       "                              max_delta_step=0, max_depth=6, max_leaves=0,\n",
       "                              min_child_weight=1, missing=nan,\n",
       "                              monotone_constraints=&#x27;()&#x27;, n_estimators=100,\n",
       "                              n_jobs=0, num_parallel_tree=1, predictor=&#x27;auto&#x27;,\n",
       "                              random_state=0, ...))])</pre></div></div></div><div class=\"sk-serial\"><div class=\"sk-item\"><div class=\"sk-estimator sk-toggleable\"><input class=\"sk-toggleable__control sk-hidden--visually\" id=\"sk-estimator-id-2\" type=\"checkbox\" ><label for=\"sk-estimator-id-2\" class=\"sk-toggleable__label sk-toggleable__label-arrow\">DataFramePreprocessing</label><div class=\"sk-toggleable__content\"><pre>DataFramePreprocessing()</pre></div></div></div><div class=\"sk-item\"><div class=\"sk-estimator sk-toggleable\"><input class=\"sk-toggleable__control sk-hidden--visually\" id=\"sk-estimator-id-3\" type=\"checkbox\" ><label for=\"sk-estimator-id-3\" class=\"sk-toggleable__label sk-toggleable__label-arrow\">XGBRegressor</label><div class=\"sk-toggleable__content\"><pre>XGBRegressor(base_score=0.5, booster=&#x27;gbtree&#x27;, callbacks=None,\n",
       "             colsample_bylevel=1, colsample_bynode=1, colsample_bytree=1,\n",
       "             early_stopping_rounds=None, enable_categorical=False,\n",
       "             eval_metric=None, feature_types=None, gamma=0, gpu_id=-1,\n",
       "             grow_policy=&#x27;depthwise&#x27;, importance_type=None,\n",
       "             interaction_constraints=&#x27;&#x27;, learning_rate=0.300000012, max_bin=256,\n",
       "             max_cat_threshold=64, max_cat_to_onehot=4, max_delta_step=0,\n",
       "             max_depth=6, max_leaves=0, min_child_weight=1, missing=nan,\n",
       "             monotone_constraints=&#x27;()&#x27;, n_estimators=100, n_jobs=0,\n",
       "             num_parallel_tree=1, predictor=&#x27;auto&#x27;, random_state=0, ...)</pre></div></div></div></div></div></div></div>"
      ],
      "text/plain": [
       "Pipeline(steps=[('preprocessing', DataFramePreprocessing()),\n",
       "                ('model',\n",
       "                 XGBRegressor(base_score=0.5, booster='gbtree', callbacks=None,\n",
       "                              colsample_bylevel=1, colsample_bynode=1,\n",
       "                              colsample_bytree=1, early_stopping_rounds=None,\n",
       "                              enable_categorical=False, eval_metric=None,\n",
       "                              feature_types=None, gamma=0, gpu_id=-1,\n",
       "                              grow_policy='depthwise', importance_type=None,\n",
       "                              interaction_constraints='',\n",
       "                              learning_rate=0.300000012, max_bin=256,\n",
       "                              max_cat_threshold=64, max_cat_to_onehot=4,\n",
       "                              max_delta_step=0, max_depth=6, max_leaves=0,\n",
       "                              min_child_weight=1, missing=nan,\n",
       "                              monotone_constraints='()', n_estimators=100,\n",
       "                              n_jobs=0, num_parallel_tree=1, predictor='auto',\n",
       "                              random_state=0, ...))])"
      ]
     },
     "execution_count": 11,
     "metadata": {},
     "output_type": "execute_result"
    }
   ],
   "source": [
    "pipeline.fit(X_train, y_train)"
   ]
  },
  {
   "cell_type": "markdown",
   "id": "392b3330",
   "metadata": {},
   "source": [
    "## Metrics"
   ]
  },
  {
   "cell_type": "code",
   "execution_count": 12,
   "id": "c5343a85",
   "metadata": {
    "ExecuteTime": {
     "end_time": "2023-06-03T09:49:12.453056Z",
     "start_time": "2023-06-03T09:49:12.372650Z"
    }
   },
   "outputs": [
    {
     "data": {
      "text/html": [
       "<div>\n",
       "<style scoped>\n",
       "    .dataframe tbody tr th:only-of-type {\n",
       "        vertical-align: middle;\n",
       "    }\n",
       "\n",
       "    .dataframe tbody tr th {\n",
       "        vertical-align: top;\n",
       "    }\n",
       "\n",
       "    .dataframe thead th {\n",
       "        text-align: right;\n",
       "    }\n",
       "</style>\n",
       "<table border=\"1\" class=\"dataframe\">\n",
       "  <thead>\n",
       "    <tr style=\"text-align: right;\">\n",
       "      <th></th>\n",
       "      <th>Value</th>\n",
       "    </tr>\n",
       "    <tr>\n",
       "      <th>Metric</th>\n",
       "      <th></th>\n",
       "    </tr>\n",
       "  </thead>\n",
       "  <tbody>\n",
       "    <tr>\n",
       "      <th>Test R-squared</th>\n",
       "      <td>0.840350</td>\n",
       "    </tr>\n",
       "    <tr>\n",
       "      <th>Val R-squared</th>\n",
       "      <td>0.816672</td>\n",
       "    </tr>\n",
       "    <tr>\n",
       "      <th>MAE</th>\n",
       "      <td>0.317786</td>\n",
       "    </tr>\n",
       "    <tr>\n",
       "      <th>MSE</th>\n",
       "      <td>0.238944</td>\n",
       "    </tr>\n",
       "    <tr>\n",
       "      <th>RMSE</th>\n",
       "      <td>0.488819</td>\n",
       "    </tr>\n",
       "    <tr>\n",
       "      <th>MAPE</th>\n",
       "      <td>0.182462</td>\n",
       "    </tr>\n",
       "    <tr>\n",
       "      <th>AIC</th>\n",
       "      <td>22.127852</td>\n",
       "    </tr>\n",
       "    <tr>\n",
       "      <th>BIC</th>\n",
       "      <td>18.127852</td>\n",
       "    </tr>\n",
       "    <tr>\n",
       "      <th>Std Deviation</th>\n",
       "      <td>1.058918</td>\n",
       "    </tr>\n",
       "    <tr>\n",
       "      <th>Mean</th>\n",
       "      <td>2.082170</td>\n",
       "    </tr>\n",
       "  </tbody>\n",
       "</table>\n",
       "</div>"
      ],
      "text/plain": [
       "                    Value\n",
       "Metric                   \n",
       "Test R-squared   0.840350\n",
       "Val R-squared    0.816672\n",
       "MAE              0.317786\n",
       "MSE              0.238944\n",
       "RMSE             0.488819\n",
       "MAPE             0.182462\n",
       "AIC             22.127852\n",
       "BIC             18.127852\n",
       "Std Deviation    1.058918\n",
       "Mean             2.082170"
      ]
     },
     "execution_count": 12,
     "metadata": {},
     "output_type": "execute_result"
    }
   ],
   "source": [
    "metrics = RegressionMetrics(pipeline, X_test, y_test, X_val, y_val)\n",
    "metrics.run()"
   ]
  },
  {
   "cell_type": "markdown",
   "id": "0ff1a235",
   "metadata": {},
   "source": [
    "# With style\n"
   ]
  },
  {
   "cell_type": "code",
   "execution_count": 13,
   "id": "d9f4502e",
   "metadata": {
    "ExecuteTime": {
     "end_time": "2023-06-03T09:49:12.655011Z",
     "start_time": "2023-06-03T09:49:12.453976Z"
    }
   },
   "outputs": [
    {
     "data": {
      "text/html": [
       "<style type=\"text/css\">\n",
       "#T_2bc0f caption {\n",
       "  color: Blue;\n",
       "  font-size: 28px;\n",
       "  font-weight: bold;\n",
       "}\n",
       "#T_2bc0f_row0_col0, #T_2bc0f_row1_col0 {\n",
       "  background-color: #4358cb;\n",
       "  color: #f1f1f1;\n",
       "}\n",
       "#T_2bc0f_row2_col0 {\n",
       "  background-color: #3c4ec2;\n",
       "  color: #f1f1f1;\n",
       "}\n",
       "#T_2bc0f_row3_col0, #T_2bc0f_row5_col0 {\n",
       "  background-color: #3b4cc0;\n",
       "  color: #f1f1f1;\n",
       "}\n",
       "#T_2bc0f_row4_col0 {\n",
       "  background-color: #3e51c5;\n",
       "  color: #f1f1f1;\n",
       "}\n",
       "#T_2bc0f_row6_col0 {\n",
       "  background-color: #b40426;\n",
       "  color: #f1f1f1;\n",
       "}\n",
       "#T_2bc0f_row7_col0 {\n",
       "  background-color: #ea7b60;\n",
       "  color: #f1f1f1;\n",
       "}\n",
       "#T_2bc0f_row8_col0 {\n",
       "  background-color: #465ecf;\n",
       "  color: #f1f1f1;\n",
       "}\n",
       "#T_2bc0f_row9_col0 {\n",
       "  background-color: #5572df;\n",
       "  color: #f1f1f1;\n",
       "}\n",
       "</style>\n",
       "<table id=\"T_2bc0f\">\n",
       "  <thead>\n",
       "    <tr>\n",
       "      <th class=\"blank level0\" >&nbsp;</th>\n",
       "      <th id=\"T_2bc0f_level0_col0\" class=\"col_heading level0 col0\" >Value</th>\n",
       "    </tr>\n",
       "    <tr>\n",
       "      <th class=\"index_name level0\" >Metric</th>\n",
       "      <th class=\"blank col0\" >&nbsp;</th>\n",
       "    </tr>\n",
       "  </thead>\n",
       "  <tbody>\n",
       "    <tr>\n",
       "      <th id=\"T_2bc0f_level0_row0\" class=\"row_heading level0 row0\" >Test R-squared</th>\n",
       "      <td id=\"T_2bc0f_row0_col0\" class=\"data row0 col0\" >0.840350</td>\n",
       "    </tr>\n",
       "    <tr>\n",
       "      <th id=\"T_2bc0f_level0_row1\" class=\"row_heading level0 row1\" >Val R-squared</th>\n",
       "      <td id=\"T_2bc0f_row1_col0\" class=\"data row1 col0\" >0.816672</td>\n",
       "    </tr>\n",
       "    <tr>\n",
       "      <th id=\"T_2bc0f_level0_row2\" class=\"row_heading level0 row2\" >MAE</th>\n",
       "      <td id=\"T_2bc0f_row2_col0\" class=\"data row2 col0\" >0.317786</td>\n",
       "    </tr>\n",
       "    <tr>\n",
       "      <th id=\"T_2bc0f_level0_row3\" class=\"row_heading level0 row3\" >MSE</th>\n",
       "      <td id=\"T_2bc0f_row3_col0\" class=\"data row3 col0\" >0.238944</td>\n",
       "    </tr>\n",
       "    <tr>\n",
       "      <th id=\"T_2bc0f_level0_row4\" class=\"row_heading level0 row4\" >RMSE</th>\n",
       "      <td id=\"T_2bc0f_row4_col0\" class=\"data row4 col0\" >0.488819</td>\n",
       "    </tr>\n",
       "    <tr>\n",
       "      <th id=\"T_2bc0f_level0_row5\" class=\"row_heading level0 row5\" >MAPE</th>\n",
       "      <td id=\"T_2bc0f_row5_col0\" class=\"data row5 col0\" >0.182462</td>\n",
       "    </tr>\n",
       "    <tr>\n",
       "      <th id=\"T_2bc0f_level0_row6\" class=\"row_heading level0 row6\" >AIC</th>\n",
       "      <td id=\"T_2bc0f_row6_col0\" class=\"data row6 col0\" >22.127852</td>\n",
       "    </tr>\n",
       "    <tr>\n",
       "      <th id=\"T_2bc0f_level0_row7\" class=\"row_heading level0 row7\" >BIC</th>\n",
       "      <td id=\"T_2bc0f_row7_col0\" class=\"data row7 col0\" >18.127852</td>\n",
       "    </tr>\n",
       "    <tr>\n",
       "      <th id=\"T_2bc0f_level0_row8\" class=\"row_heading level0 row8\" >Std Deviation</th>\n",
       "      <td id=\"T_2bc0f_row8_col0\" class=\"data row8 col0\" >1.058918</td>\n",
       "    </tr>\n",
       "    <tr>\n",
       "      <th id=\"T_2bc0f_level0_row9\" class=\"row_heading level0 row9\" >Mean</th>\n",
       "      <td id=\"T_2bc0f_row9_col0\" class=\"data row9 col0\" >2.082170</td>\n",
       "    </tr>\n",
       "  </tbody>\n",
       "</table>\n"
      ],
      "text/plain": [
       "<pandas.io.formats.style.Styler at 0x7f7747c0d690>"
      ]
     },
     "execution_count": 13,
     "metadata": {},
     "output_type": "execute_result"
    }
   ],
   "source": [
    "metrics = RegressionMetrics(pipeline, X_test, y_test, X_val, y_val, style = True)\n",
    "metrics.run()"
   ]
  }
 ],
 "metadata": {
  "hide_input": false,
  "kernelspec": {
   "display_name": "Python 3 (ipykernel)",
   "language": "python",
   "name": "python3"
  },
  "language_info": {
   "codemirror_mode": {
    "name": "ipython",
    "version": 3
   },
   "file_extension": ".py",
   "mimetype": "text/x-python",
   "name": "python",
   "nbconvert_exporter": "python",
   "pygments_lexer": "ipython3",
   "version": "3.10.8"
  },
  "toc": {
   "base_numbering": 1,
   "nav_menu": {},
   "number_sections": true,
   "sideBar": true,
   "skip_h1_title": false,
   "title_cell": "Table of Contents",
   "title_sidebar": "Contents",
   "toc_cell": false,
   "toc_position": {},
   "toc_section_display": true,
   "toc_window_display": false
  }
 },
 "nbformat": 4,
 "nbformat_minor": 5
}
