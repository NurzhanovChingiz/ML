{
 "cells": [
  {
   "cell_type": "markdown",
   "id": "18b7d824",
   "metadata": {},
   "source": [
    "# Class"
   ]
  },
  {
   "cell_type": "code",
   "execution_count": 1,
   "id": "8a0c5870",
   "metadata": {
    "ExecuteTime": {
     "end_time": "2023-06-03T08:26:51.379497Z",
     "start_time": "2023-06-03T08:26:51.022761Z"
    }
   },
   "outputs": [],
   "source": [
    "from sklearn.metrics import mean_absolute_error, mean_absolute_percentage_error, mean_squared_error, r2_score\n",
    "import pandas as pd\n",
    "import numpy as np\n",
    "\n",
    "class RegressionMetrics:\n",
    "    \"\"\"\n",
    "    A class for computing and printing regression evaluation metrics.\n",
    "\n",
    "    Args:\n",
    "        pipeline_or_model: The regression pipeline or model.\n",
    "        X_test: The test features.\n",
    "        y_test: The test labels.\n",
    "        X_val: The validation features.\n",
    "        y_val: The validation labels.\n",
    "        style: Flag indicating whether to apply styling to the output. Default is False.\n",
    "        is_model: Flag indicating whether the provided object is a regression model. Default is False.\n",
    "    \"\"\"\n",
    "\n",
    "    def __init__(self, pipeline_or_model, X_test, y_test, X_val, y_val, style=False, is_model=False):\n",
    "        if is_model:\n",
    "            self.model = pipeline_or_model\n",
    "        else:\n",
    "            self.pipeline = pipeline_or_model\n",
    "        self.X_test = X_test\n",
    "        self.y_test = y_test\n",
    "        self.X_val = X_val\n",
    "        self.y_val = y_val\n",
    "        self.y_pred = None\n",
    "        self.style = style\n",
    "\n",
    "    def mean_absolute_error(self):\n",
    "        \"\"\"\n",
    "        Calculates the mean absolute error (MAE).\n",
    "\n",
    "        Returns:\n",
    "            The mean absolute error value.\n",
    "        \"\"\"\n",
    "        return mean_absolute_error(self.y_val, self.y_pred)\n",
    "\n",
    "    def mean_absolute_percentage_error(self):\n",
    "        \"\"\"\n",
    "        Calculates the mean absolute percentage error (MAPE).\n",
    "\n",
    "        Returns:\n",
    "            The mean absolute percentage error value.\n",
    "        \"\"\"\n",
    "        return mean_absolute_percentage_error(self.y_val, self.y_pred)\n",
    "\n",
    "    def mean_squared_error(self):\n",
    "        \"\"\"\n",
    "        Calculates the mean squared error (MSE).\n",
    "\n",
    "        Returns:\n",
    "            The mean squared error value.\n",
    "        \"\"\"\n",
    "        return mean_squared_error(self.y_val, self.y_pred)\n",
    "\n",
    "    def mean_root_mean_squared_error(self):\n",
    "        \"\"\"\n",
    "        Calculates the root mean squared error (RMSE).\n",
    "\n",
    "        Returns:\n",
    "            The root mean squared error value.\n",
    "        \"\"\"\n",
    "        return mean_squared_error(self.y_val, self.y_pred, squared=False)\n",
    "\n",
    "    def r2_test(self):\n",
    "        \"\"\"\n",
    "        Calculates the R-squared score for the test set.\n",
    "\n",
    "        Returns:\n",
    "            The R-squared score for the test set.\n",
    "        \"\"\"\n",
    "        if hasattr(self, 'model'):\n",
    "            return self.model.score(self.X_test, self.y_test)\n",
    "        else:\n",
    "            return self.pipeline.score(self.X_test, self.y_test)\n",
    "\n",
    "    def r2_val(self):\n",
    "        \"\"\"\n",
    "        Calculates the R-squared score for the validation set.\n",
    "\n",
    "        Returns:\n",
    "            The R-squared score for the validation set.\n",
    "        \"\"\"\n",
    "        return r2_score(self.y_val, self.y_pred)\n",
    "\n",
    "    def aic(self):\n",
    "        \"\"\"\n",
    "        Calculates the Akaike Information Criterion (AIC).\n",
    "\n",
    "        Returns:\n",
    "            The Akaike Information Criterion value.\n",
    "        \"\"\"\n",
    "        y_pred = self.predict()\n",
    "        n_params = len(self.pipeline.named_steps) if hasattr(self, 'pipeline') else 0\n",
    "        n = len(self.y_val)\n",
    "        mse = mean_squared_error(self.y_val, y_pred)\n",
    "        aic = 2 * n_params - 2 * np.log(mse) + n_params * np.log(n)\n",
    "        return aic\n",
    "\n",
    "    def bic(self):\n",
    "        \"\"\"\n",
    "        Calculates the Bayesian Information Criterion (BIC).\n",
    "\n",
    "        Returns:\n",
    "            The Bayesian Information Criterion value.\n",
    "        \"\"\"\n",
    "        y_pred = self.predict()\n",
    "        n_params = len(self.pipeline.named_steps) if hasattr(self, 'pipeline') else 0\n",
    "        n = len(self.y_val)\n",
    "        mse = mean_squared_error(self.y_val, y_pred)\n",
    "        bic = -2 * np.log(mse) + n_params * np.log(n)\n",
    "        return bic\n",
    "\n",
    "    def std(self):\n",
    "        \"\"\"\n",
    "        Calculates the standard deviation of the predicted values.\n",
    "\n",
    "        Returns:\n",
    "            The standard deviation value.\n",
    "        \"\"\"\n",
    "        return self.y_pred.std()\n",
    "\n",
    "    def mean(self):\n",
    "        \"\"\"\n",
    "        Calculates the mean of the predicted values.\n",
    "\n",
    "        Returns:\n",
    "            The mean value.\n",
    "        \"\"\"\n",
    "        return self.y_pred.mean()\n",
    "\n",
    "    def predict(self):\n",
    "        \"\"\"\n",
    "        Performs prediction on the validation set.\n",
    "\n",
    "        Returns:\n",
    "            The predicted values.\n",
    "        \"\"\"\n",
    "        if hasattr(self, 'model'):\n",
    "            self.y_pred = self.model.predict(self.X_val)\n",
    "        else:\n",
    "            self.y_pred = self.pipeline.predict(self.X_val)\n",
    "        return self.y_pred\n",
    "\n",
    "    def set_frame_style(self, df, caption=\"\"):\n",
    "        \"\"\"\n",
    "        Helper function to set dataframe presentation style.\n",
    "\n",
    "        Args:\n",
    "            df: The DataFrame to style.\n",
    "            caption: The caption for the styled DataFrame. Default is an empty string.\n",
    "\n",
    "        Returns:\n",
    "            The styled DataFrame.\n",
    "        \"\"\"\n",
    "        return df.style.background_gradient(\n",
    "            cmap='coolwarm').set_caption(caption).set_table_styles([{\n",
    "                'selector':\n",
    "                'caption',\n",
    "                'props': [('color', 'Blue'), ('font-size', '28px'),\n",
    "                          ('font-weight', 'bold')]\n",
    "            }])\n",
    "\n",
    "    def run(self):\n",
    "        \"\"\"\n",
    "        Runs the regression metrics calculation and printing.\n",
    "\n",
    "        Returns:\n",
    "            The DataFrame containing the metric values.\n",
    "        \"\"\"\n",
    "        try:\n",
    "            self.predict()\n",
    "            metrics = {\n",
    "                \"Test R-squared\": self.r2_test(),\n",
    "                \"Val R-squared\": self.r2_val(),\n",
    "                \"MAE\": self.mean_absolute_error(),\n",
    "                \"MSE\": self.mean_squared_error(),\n",
    "                \"RMSE\": self.mean_root_mean_squared_error(),\n",
    "                \"MAPE\": self.mean_absolute_percentage_error(),\n",
    "                \"AIC\": self.aic(),\n",
    "                \"BIC\": self.bic(),\n",
    "                \"Std Deviation\": self.std(),\n",
    "                \"Mean\": self.mean()\n",
    "            }\n",
    "\n",
    "            df_metrics = pd.DataFrame.from_dict(metrics,\n",
    "                                                orient=\"index\",\n",
    "                                                columns=[\"Value\"])\n",
    "            df_metrics.index.name = \"Metric\"\n",
    "\n",
    "            if self.style:\n",
    "                return self.set_frame_style(df_metrics)\n",
    "            else:\n",
    "                return df_metrics\n",
    "        except Exception as e:\n",
    "            print(\"An error occurred:\", str(e))\n"
   ]
  },
  {
   "cell_type": "markdown",
   "id": "e9e1b402",
   "metadata": {},
   "source": [
    "# Example"
   ]
  },
  {
   "cell_type": "markdown",
   "id": "7cb0865c",
   "metadata": {},
   "source": [
    "## Libs"
   ]
  },
  {
   "cell_type": "code",
   "execution_count": 2,
   "id": "5d0e01e1",
   "metadata": {
    "ExecuteTime": {
     "end_time": "2023-06-03T08:26:51.404886Z",
     "start_time": "2023-06-03T08:26:51.380422Z"
    }
   },
   "outputs": [],
   "source": [
    "from sklearn.datasets import fetch_california_housing\n",
    "# Split\n",
    "from sklearn.model_selection import train_test_split\n",
    "# Model\n",
    "import xgboost as xgb\n",
    "\n",
    "from sklearn.pipeline import Pipeline"
   ]
  },
  {
   "cell_type": "markdown",
   "id": "0b8088b8",
   "metadata": {},
   "source": [
    "## Config"
   ]
  },
  {
   "cell_type": "code",
   "execution_count": 3,
   "id": "fcde89e6",
   "metadata": {
    "ExecuteTime": {
     "end_time": "2023-06-03T08:26:51.407625Z",
     "start_time": "2023-06-03T08:26:51.406079Z"
    }
   },
   "outputs": [],
   "source": [
    "class CFG:\n",
    "    #Random seed\n",
    "    SEED = 42"
   ]
  },
  {
   "cell_type": "markdown",
   "id": "655f1acd",
   "metadata": {},
   "source": [
    "## train test validate split"
   ]
  },
  {
   "cell_type": "code",
   "execution_count": 4,
   "id": "3c00585d",
   "metadata": {
    "ExecuteTime": {
     "end_time": "2023-06-03T08:26:51.420196Z",
     "start_time": "2023-06-03T08:26:51.408721Z"
    }
   },
   "outputs": [],
   "source": [
    "X, y = fetch_california_housing(as_frame=True,return_X_y =True)"
   ]
  },
  {
   "cell_type": "code",
   "execution_count": 5,
   "id": "eea6674a",
   "metadata": {
    "ExecuteTime": {
     "end_time": "2023-06-03T08:26:51.423990Z",
     "start_time": "2023-06-03T08:26:51.420862Z"
    }
   },
   "outputs": [],
   "source": [
    "X_train, X_test, y_train, y_test = train_test_split(X, y, test_size=0.20,\n",
    "                                                    random_state=CFG.SEED,\n",
    "                                                    shuffle = True,\n",
    "                                                   )\n",
    "X_test, X_val, y_test, y_val = train_test_split(X_test, y_test, test_size=0.50,\n",
    "                                                random_state=CFG.SEED,\n",
    "                                                shuffle = True,\n",
    "                                               )"
   ]
  },
  {
   "cell_type": "markdown",
   "id": "04bf13eb",
   "metadata": {},
   "source": [
    "## Shape"
   ]
  },
  {
   "cell_type": "code",
   "execution_count": 6,
   "id": "47625df4",
   "metadata": {
    "ExecuteTime": {
     "end_time": "2023-06-03T08:26:51.429489Z",
     "start_time": "2023-06-03T08:26:51.424646Z"
    }
   },
   "outputs": [
    {
     "data": {
      "text/plain": [
       "((16512, 8), (2064, 8), (16512,), (2064,), (2064, 8), (2064,))"
      ]
     },
     "execution_count": 6,
     "metadata": {},
     "output_type": "execute_result"
    }
   ],
   "source": [
    "X_train.shape, X_test.shape, y_train.shape, y_test.shape, X_val.shape, y_val.shape"
   ]
  },
  {
   "cell_type": "code",
   "execution_count": 7,
   "id": "fe62f549",
   "metadata": {
    "ExecuteTime": {
     "end_time": "2023-06-03T08:26:51.433119Z",
     "start_time": "2023-06-03T08:26:51.430023Z"
    }
   },
   "outputs": [],
   "source": [
    "model = xgb.XGBRegressor()"
   ]
  },
  {
   "cell_type": "code",
   "execution_count": 8,
   "id": "b4fc89fa",
   "metadata": {
    "ExecuteTime": {
     "end_time": "2023-06-03T08:26:51.436206Z",
     "start_time": "2023-06-03T08:26:51.433694Z"
    }
   },
   "outputs": [],
   "source": [
    "steps = [('model', model)]  # Create a list of tuples with the steps\n",
    "pipeline = Pipeline(steps=steps)"
   ]
  },
  {
   "cell_type": "markdown",
   "id": "541b39f8",
   "metadata": {},
   "source": [
    "## Modeling"
   ]
  },
  {
   "cell_type": "code",
   "execution_count": 9,
   "id": "b9b3f937",
   "metadata": {
    "ExecuteTime": {
     "end_time": "2023-06-03T08:26:52.055790Z",
     "start_time": "2023-06-03T08:26:51.436884Z"
    }
   },
   "outputs": [
    {
     "data": {
      "text/html": [
       "<style>#sk-container-id-1 {color: black;background-color: white;}#sk-container-id-1 pre{padding: 0;}#sk-container-id-1 div.sk-toggleable {background-color: white;}#sk-container-id-1 label.sk-toggleable__label {cursor: pointer;display: block;width: 100%;margin-bottom: 0;padding: 0.3em;box-sizing: border-box;text-align: center;}#sk-container-id-1 label.sk-toggleable__label-arrow:before {content: \"▸\";float: left;margin-right: 0.25em;color: #696969;}#sk-container-id-1 label.sk-toggleable__label-arrow:hover:before {color: black;}#sk-container-id-1 div.sk-estimator:hover label.sk-toggleable__label-arrow:before {color: black;}#sk-container-id-1 div.sk-toggleable__content {max-height: 0;max-width: 0;overflow: hidden;text-align: left;background-color: #f0f8ff;}#sk-container-id-1 div.sk-toggleable__content pre {margin: 0.2em;color: black;border-radius: 0.25em;background-color: #f0f8ff;}#sk-container-id-1 input.sk-toggleable__control:checked~div.sk-toggleable__content {max-height: 200px;max-width: 100%;overflow: auto;}#sk-container-id-1 input.sk-toggleable__control:checked~label.sk-toggleable__label-arrow:before {content: \"▾\";}#sk-container-id-1 div.sk-estimator input.sk-toggleable__control:checked~label.sk-toggleable__label {background-color: #d4ebff;}#sk-container-id-1 div.sk-label input.sk-toggleable__control:checked~label.sk-toggleable__label {background-color: #d4ebff;}#sk-container-id-1 input.sk-hidden--visually {border: 0;clip: rect(1px 1px 1px 1px);clip: rect(1px, 1px, 1px, 1px);height: 1px;margin: -1px;overflow: hidden;padding: 0;position: absolute;width: 1px;}#sk-container-id-1 div.sk-estimator {font-family: monospace;background-color: #f0f8ff;border: 1px dotted black;border-radius: 0.25em;box-sizing: border-box;margin-bottom: 0.5em;}#sk-container-id-1 div.sk-estimator:hover {background-color: #d4ebff;}#sk-container-id-1 div.sk-parallel-item::after {content: \"\";width: 100%;border-bottom: 1px solid gray;flex-grow: 1;}#sk-container-id-1 div.sk-label:hover label.sk-toggleable__label {background-color: #d4ebff;}#sk-container-id-1 div.sk-serial::before {content: \"\";position: absolute;border-left: 1px solid gray;box-sizing: border-box;top: 0;bottom: 0;left: 50%;z-index: 0;}#sk-container-id-1 div.sk-serial {display: flex;flex-direction: column;align-items: center;background-color: white;padding-right: 0.2em;padding-left: 0.2em;position: relative;}#sk-container-id-1 div.sk-item {position: relative;z-index: 1;}#sk-container-id-1 div.sk-parallel {display: flex;align-items: stretch;justify-content: center;background-color: white;position: relative;}#sk-container-id-1 div.sk-item::before, #sk-container-id-1 div.sk-parallel-item::before {content: \"\";position: absolute;border-left: 1px solid gray;box-sizing: border-box;top: 0;bottom: 0;left: 50%;z-index: -1;}#sk-container-id-1 div.sk-parallel-item {display: flex;flex-direction: column;z-index: 1;position: relative;background-color: white;}#sk-container-id-1 div.sk-parallel-item:first-child::after {align-self: flex-end;width: 50%;}#sk-container-id-1 div.sk-parallel-item:last-child::after {align-self: flex-start;width: 50%;}#sk-container-id-1 div.sk-parallel-item:only-child::after {width: 0;}#sk-container-id-1 div.sk-dashed-wrapped {border: 1px dashed gray;margin: 0 0.4em 0.5em 0.4em;box-sizing: border-box;padding-bottom: 0.4em;background-color: white;}#sk-container-id-1 div.sk-label label {font-family: monospace;font-weight: bold;display: inline-block;line-height: 1.2em;}#sk-container-id-1 div.sk-label-container {text-align: center;}#sk-container-id-1 div.sk-container {/* jupyter's `normalize.less` sets `[hidden] { display: none; }` but bootstrap.min.css set `[hidden] { display: none !important; }` so we also need the `!important` here to be able to override the default hidden behavior on the sphinx rendered scikit-learn.org. See: https://github.com/scikit-learn/scikit-learn/issues/21755 */display: inline-block !important;position: relative;}#sk-container-id-1 div.sk-text-repr-fallback {display: none;}</style><div id=\"sk-container-id-1\" class=\"sk-top-container\"><div class=\"sk-text-repr-fallback\"><pre>Pipeline(steps=[(&#x27;model&#x27;,\n",
       "                 XGBRegressor(base_score=0.5, booster=&#x27;gbtree&#x27;, callbacks=None,\n",
       "                              colsample_bylevel=1, colsample_bynode=1,\n",
       "                              colsample_bytree=1, early_stopping_rounds=None,\n",
       "                              enable_categorical=False, eval_metric=None,\n",
       "                              feature_types=None, gamma=0, gpu_id=-1,\n",
       "                              grow_policy=&#x27;depthwise&#x27;, importance_type=None,\n",
       "                              interaction_constraints=&#x27;&#x27;,\n",
       "                              learning_rate=0.300000012, max_bin=256,\n",
       "                              max_cat_threshold=64, max_cat_to_onehot=4,\n",
       "                              max_delta_step=0, max_depth=6, max_leaves=0,\n",
       "                              min_child_weight=1, missing=nan,\n",
       "                              monotone_constraints=&#x27;()&#x27;, n_estimators=100,\n",
       "                              n_jobs=0, num_parallel_tree=1, predictor=&#x27;auto&#x27;,\n",
       "                              random_state=0, ...))])</pre><b>In a Jupyter environment, please rerun this cell to show the HTML representation or trust the notebook. <br />On GitHub, the HTML representation is unable to render, please try loading this page with nbviewer.org.</b></div><div class=\"sk-container\" hidden><div class=\"sk-item sk-dashed-wrapped\"><div class=\"sk-label-container\"><div class=\"sk-label sk-toggleable\"><input class=\"sk-toggleable__control sk-hidden--visually\" id=\"sk-estimator-id-1\" type=\"checkbox\" ><label for=\"sk-estimator-id-1\" class=\"sk-toggleable__label sk-toggleable__label-arrow\">Pipeline</label><div class=\"sk-toggleable__content\"><pre>Pipeline(steps=[(&#x27;model&#x27;,\n",
       "                 XGBRegressor(base_score=0.5, booster=&#x27;gbtree&#x27;, callbacks=None,\n",
       "                              colsample_bylevel=1, colsample_bynode=1,\n",
       "                              colsample_bytree=1, early_stopping_rounds=None,\n",
       "                              enable_categorical=False, eval_metric=None,\n",
       "                              feature_types=None, gamma=0, gpu_id=-1,\n",
       "                              grow_policy=&#x27;depthwise&#x27;, importance_type=None,\n",
       "                              interaction_constraints=&#x27;&#x27;,\n",
       "                              learning_rate=0.300000012, max_bin=256,\n",
       "                              max_cat_threshold=64, max_cat_to_onehot=4,\n",
       "                              max_delta_step=0, max_depth=6, max_leaves=0,\n",
       "                              min_child_weight=1, missing=nan,\n",
       "                              monotone_constraints=&#x27;()&#x27;, n_estimators=100,\n",
       "                              n_jobs=0, num_parallel_tree=1, predictor=&#x27;auto&#x27;,\n",
       "                              random_state=0, ...))])</pre></div></div></div><div class=\"sk-serial\"><div class=\"sk-item\"><div class=\"sk-estimator sk-toggleable\"><input class=\"sk-toggleable__control sk-hidden--visually\" id=\"sk-estimator-id-2\" type=\"checkbox\" ><label for=\"sk-estimator-id-2\" class=\"sk-toggleable__label sk-toggleable__label-arrow\">XGBRegressor</label><div class=\"sk-toggleable__content\"><pre>XGBRegressor(base_score=0.5, booster=&#x27;gbtree&#x27;, callbacks=None,\n",
       "             colsample_bylevel=1, colsample_bynode=1, colsample_bytree=1,\n",
       "             early_stopping_rounds=None, enable_categorical=False,\n",
       "             eval_metric=None, feature_types=None, gamma=0, gpu_id=-1,\n",
       "             grow_policy=&#x27;depthwise&#x27;, importance_type=None,\n",
       "             interaction_constraints=&#x27;&#x27;, learning_rate=0.300000012, max_bin=256,\n",
       "             max_cat_threshold=64, max_cat_to_onehot=4, max_delta_step=0,\n",
       "             max_depth=6, max_leaves=0, min_child_weight=1, missing=nan,\n",
       "             monotone_constraints=&#x27;()&#x27;, n_estimators=100, n_jobs=0,\n",
       "             num_parallel_tree=1, predictor=&#x27;auto&#x27;, random_state=0, ...)</pre></div></div></div></div></div></div></div>"
      ],
      "text/plain": [
       "Pipeline(steps=[('model',\n",
       "                 XGBRegressor(base_score=0.5, booster='gbtree', callbacks=None,\n",
       "                              colsample_bylevel=1, colsample_bynode=1,\n",
       "                              colsample_bytree=1, early_stopping_rounds=None,\n",
       "                              enable_categorical=False, eval_metric=None,\n",
       "                              feature_types=None, gamma=0, gpu_id=-1,\n",
       "                              grow_policy='depthwise', importance_type=None,\n",
       "                              interaction_constraints='',\n",
       "                              learning_rate=0.300000012, max_bin=256,\n",
       "                              max_cat_threshold=64, max_cat_to_onehot=4,\n",
       "                              max_delta_step=0, max_depth=6, max_leaves=0,\n",
       "                              min_child_weight=1, missing=nan,\n",
       "                              monotone_constraints='()', n_estimators=100,\n",
       "                              n_jobs=0, num_parallel_tree=1, predictor='auto',\n",
       "                              random_state=0, ...))])"
      ]
     },
     "execution_count": 9,
     "metadata": {},
     "output_type": "execute_result"
    }
   ],
   "source": [
    "pipeline.fit(X_train, y_train)"
   ]
  },
  {
   "cell_type": "markdown",
   "id": "b490f382",
   "metadata": {},
   "source": [
    "## Metrics"
   ]
  },
  {
   "cell_type": "code",
   "execution_count": 10,
   "id": "0c881922",
   "metadata": {
    "ExecuteTime": {
     "end_time": "2023-06-03T08:26:52.134101Z",
     "start_time": "2023-06-03T08:26:52.056749Z"
    }
   },
   "outputs": [
    {
     "data": {
      "text/html": [
       "<div>\n",
       "<style scoped>\n",
       "    .dataframe tbody tr th:only-of-type {\n",
       "        vertical-align: middle;\n",
       "    }\n",
       "\n",
       "    .dataframe tbody tr th {\n",
       "        vertical-align: top;\n",
       "    }\n",
       "\n",
       "    .dataframe thead th {\n",
       "        text-align: right;\n",
       "    }\n",
       "</style>\n",
       "<table border=\"1\" class=\"dataframe\">\n",
       "  <thead>\n",
       "    <tr style=\"text-align: right;\">\n",
       "      <th></th>\n",
       "      <th>Value</th>\n",
       "    </tr>\n",
       "    <tr>\n",
       "      <th>Metric</th>\n",
       "      <th></th>\n",
       "    </tr>\n",
       "  </thead>\n",
       "  <tbody>\n",
       "    <tr>\n",
       "      <th>Test R-squared</th>\n",
       "      <td>0.840350</td>\n",
       "    </tr>\n",
       "    <tr>\n",
       "      <th>Val R-squared</th>\n",
       "      <td>0.816672</td>\n",
       "    </tr>\n",
       "    <tr>\n",
       "      <th>MAE</th>\n",
       "      <td>0.317786</td>\n",
       "    </tr>\n",
       "    <tr>\n",
       "      <th>MSE</th>\n",
       "      <td>0.238944</td>\n",
       "    </tr>\n",
       "    <tr>\n",
       "      <th>RMSE</th>\n",
       "      <td>0.488819</td>\n",
       "    </tr>\n",
       "    <tr>\n",
       "      <th>MAPE</th>\n",
       "      <td>0.182462</td>\n",
       "    </tr>\n",
       "    <tr>\n",
       "      <th>AIC</th>\n",
       "      <td>12.495451</td>\n",
       "    </tr>\n",
       "    <tr>\n",
       "      <th>BIC</th>\n",
       "      <td>10.495451</td>\n",
       "    </tr>\n",
       "    <tr>\n",
       "      <th>Std Deviation</th>\n",
       "      <td>1.058918</td>\n",
       "    </tr>\n",
       "    <tr>\n",
       "      <th>Mean</th>\n",
       "      <td>2.082170</td>\n",
       "    </tr>\n",
       "  </tbody>\n",
       "</table>\n",
       "</div>"
      ],
      "text/plain": [
       "                    Value\n",
       "Metric                   \n",
       "Test R-squared   0.840350\n",
       "Val R-squared    0.816672\n",
       "MAE              0.317786\n",
       "MSE              0.238944\n",
       "RMSE             0.488819\n",
       "MAPE             0.182462\n",
       "AIC             12.495451\n",
       "BIC             10.495451\n",
       "Std Deviation    1.058918\n",
       "Mean             2.082170"
      ]
     },
     "execution_count": 10,
     "metadata": {},
     "output_type": "execute_result"
    }
   ],
   "source": [
    "metrics = RegressionMetrics(pipeline, X_test, y_test, X_val, y_val)\n",
    "metrics.run()"
   ]
  },
  {
   "cell_type": "markdown",
   "id": "a1bced27",
   "metadata": {},
   "source": [
    "# With style"
   ]
  },
  {
   "cell_type": "code",
   "execution_count": 11,
   "id": "141bb2dc",
   "metadata": {
    "ExecuteTime": {
     "end_time": "2023-06-03T08:26:52.351975Z",
     "start_time": "2023-06-03T08:26:52.135249Z"
    }
   },
   "outputs": [
    {
     "data": {
      "text/html": [
       "<style type=\"text/css\">\n",
       "#T_97675 caption {\n",
       "  color: Blue;\n",
       "  font-size: 28px;\n",
       "  font-weight: bold;\n",
       "}\n",
       "#T_97675_row0_col0, #T_97675_row1_col0 {\n",
       "  background-color: #4a63d3;\n",
       "  color: #f1f1f1;\n",
       "}\n",
       "#T_97675_row2_col0 {\n",
       "  background-color: #3d50c3;\n",
       "  color: #f1f1f1;\n",
       "}\n",
       "#T_97675_row3_col0 {\n",
       "  background-color: #3c4ec2;\n",
       "  color: #f1f1f1;\n",
       "}\n",
       "#T_97675_row4_col0 {\n",
       "  background-color: #4257c9;\n",
       "  color: #f1f1f1;\n",
       "}\n",
       "#T_97675_row5_col0 {\n",
       "  background-color: #3b4cc0;\n",
       "  color: #f1f1f1;\n",
       "}\n",
       "#T_97675_row6_col0 {\n",
       "  background-color: #b40426;\n",
       "  color: #f1f1f1;\n",
       "}\n",
       "#T_97675_row7_col0 {\n",
       "  background-color: #e67259;\n",
       "  color: #f1f1f1;\n",
       "}\n",
       "#T_97675_row8_col0 {\n",
       "  background-color: #506bda;\n",
       "  color: #f1f1f1;\n",
       "}\n",
       "#T_97675_row9_col0 {\n",
       "  background-color: #6b8df0;\n",
       "  color: #f1f1f1;\n",
       "}\n",
       "</style>\n",
       "<table id=\"T_97675\">\n",
       "  <thead>\n",
       "    <tr>\n",
       "      <th class=\"blank level0\" >&nbsp;</th>\n",
       "      <th id=\"T_97675_level0_col0\" class=\"col_heading level0 col0\" >Value</th>\n",
       "    </tr>\n",
       "    <tr>\n",
       "      <th class=\"index_name level0\" >Metric</th>\n",
       "      <th class=\"blank col0\" >&nbsp;</th>\n",
       "    </tr>\n",
       "  </thead>\n",
       "  <tbody>\n",
       "    <tr>\n",
       "      <th id=\"T_97675_level0_row0\" class=\"row_heading level0 row0\" >Test R-squared</th>\n",
       "      <td id=\"T_97675_row0_col0\" class=\"data row0 col0\" >0.840350</td>\n",
       "    </tr>\n",
       "    <tr>\n",
       "      <th id=\"T_97675_level0_row1\" class=\"row_heading level0 row1\" >Val R-squared</th>\n",
       "      <td id=\"T_97675_row1_col0\" class=\"data row1 col0\" >0.816672</td>\n",
       "    </tr>\n",
       "    <tr>\n",
       "      <th id=\"T_97675_level0_row2\" class=\"row_heading level0 row2\" >MAE</th>\n",
       "      <td id=\"T_97675_row2_col0\" class=\"data row2 col0\" >0.317786</td>\n",
       "    </tr>\n",
       "    <tr>\n",
       "      <th id=\"T_97675_level0_row3\" class=\"row_heading level0 row3\" >MSE</th>\n",
       "      <td id=\"T_97675_row3_col0\" class=\"data row3 col0\" >0.238944</td>\n",
       "    </tr>\n",
       "    <tr>\n",
       "      <th id=\"T_97675_level0_row4\" class=\"row_heading level0 row4\" >RMSE</th>\n",
       "      <td id=\"T_97675_row4_col0\" class=\"data row4 col0\" >0.488819</td>\n",
       "    </tr>\n",
       "    <tr>\n",
       "      <th id=\"T_97675_level0_row5\" class=\"row_heading level0 row5\" >MAPE</th>\n",
       "      <td id=\"T_97675_row5_col0\" class=\"data row5 col0\" >0.182462</td>\n",
       "    </tr>\n",
       "    <tr>\n",
       "      <th id=\"T_97675_level0_row6\" class=\"row_heading level0 row6\" >AIC</th>\n",
       "      <td id=\"T_97675_row6_col0\" class=\"data row6 col0\" >12.495451</td>\n",
       "    </tr>\n",
       "    <tr>\n",
       "      <th id=\"T_97675_level0_row7\" class=\"row_heading level0 row7\" >BIC</th>\n",
       "      <td id=\"T_97675_row7_col0\" class=\"data row7 col0\" >10.495451</td>\n",
       "    </tr>\n",
       "    <tr>\n",
       "      <th id=\"T_97675_level0_row8\" class=\"row_heading level0 row8\" >Std Deviation</th>\n",
       "      <td id=\"T_97675_row8_col0\" class=\"data row8 col0\" >1.058918</td>\n",
       "    </tr>\n",
       "    <tr>\n",
       "      <th id=\"T_97675_level0_row9\" class=\"row_heading level0 row9\" >Mean</th>\n",
       "      <td id=\"T_97675_row9_col0\" class=\"data row9 col0\" >2.082170</td>\n",
       "    </tr>\n",
       "  </tbody>\n",
       "</table>\n"
      ],
      "text/plain": [
       "<pandas.io.formats.style.Styler at 0x7f90cbc93880>"
      ]
     },
     "execution_count": 11,
     "metadata": {},
     "output_type": "execute_result"
    }
   ],
   "source": [
    "metrics = RegressionMetrics(pipeline, X_test, y_test, X_val, y_val, style = True)\n",
    "metrics.run()"
   ]
  }
 ],
 "metadata": {
  "hide_input": false,
  "kernelspec": {
   "display_name": "Python 3 (ipykernel)",
   "language": "python",
   "name": "python3"
  },
  "language_info": {
   "codemirror_mode": {
    "name": "ipython",
    "version": 3
   },
   "file_extension": ".py",
   "mimetype": "text/x-python",
   "name": "python",
   "nbconvert_exporter": "python",
   "pygments_lexer": "ipython3",
   "version": "3.10.8"
  },
  "toc": {
   "base_numbering": 1,
   "nav_menu": {},
   "number_sections": true,
   "sideBar": true,
   "skip_h1_title": false,
   "title_cell": "Table of Contents",
   "title_sidebar": "Contents",
   "toc_cell": false,
   "toc_position": {},
   "toc_section_display": true,
   "toc_window_display": false
  }
 },
 "nbformat": 4,
 "nbformat_minor": 5
}
